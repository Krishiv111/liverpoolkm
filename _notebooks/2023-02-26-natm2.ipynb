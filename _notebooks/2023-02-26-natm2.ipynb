{
 "cells": [
  {
   "attachments": {},
   "cell_type": "markdown",
   "metadata": {},
   "source": [
    "\n",
    "- title: COOL Krishiv\n",
    "- toc: true\n",
    "- categories: [markdown]"
   ]
  },
  {
   "attachments": {},
   "cell_type": "markdown",
   "metadata": {},
   "source": [
    "# Summary\n",
    "- Overall NATM tri 2 was very fun. I was able to explore cermaics, studio art, 3d design, digital media, and other csp and csa classes. I had many favorites that I will share throughout this blog and why. In addition I learned a very purposeful idea that art is a way not only express how you feel, but also it is a way to express your perspective that many can find throughout life. In addition I found that many students take many hours and tons of stress to complete the project, as I felt with my own csp project. Also I would want to create a system of more synchronization between my gorup mates and my team."
   ]
  },
  {
   "attachments": {},
   "cell_type": "markdown",
   "metadata": {},
   "source": [
    "# FAVORITE PROJECTS\n",
    "- Throughout each class I observes many different pieces of art and creativity, however these were some of my favorites. \n",
    "\n",
    "### STUDIO ART: \n",
    "![](studioart.jpg)\n",
    "-  the reason I chose this was due to the fact that it represented a differnt perspective to me, the world signified beauty diversity, science and love. However the flame represented a bad parts of life, unhealthy relationships, depression, anxiety, violence, and hatred. This picture really stood out to me as it showed me that this world can be looked at as nice at some points but it can also be bad which means that it is up to you about how to make it.\n",
    "-  Also I like this because it allowed me understand a factor of art within a lot of new experiences.  \n",
    "\n",
    "### Digital Media\n",
    "![](digital.jpg)\n",
    "- This picture is my favorite as not only do I appreciate the nice ideas it represents but also it records the idea of appreciate the simple moments as everyday we go through life and sometimes we don't even take time to reflect and relax upon ourselves. In addition I really appreciated all the cool designs and galleries that went with this feature.\n",
    "\n",
    "### Ceramics\n",
    "![](birdys.jpg)\n",
    "- This clay piece was my favorite as it represented the simpler times of life and reminded me of the things I liked to do when I was little. Also it brought to my attention the persicion that this takes and what you need to do in order to perfect your craft.\n",
    "\n",
    "### CSP\n",
    "![](noice.jpg)\n",
    "- This was my favorite project from csp becuase I really like the implementation of sports and coding which opened my eys about how technology and sports are really linked. The function of this was allowing users to create race tracks and log their races througout what they need and want. Also with inspiration from other proejct I was able to find that there is more ways to connect backend and front end.\n",
    "\n",
    "\n",
    "\n",
    "\n"
   ]
  },
  {
   "attachments": {},
   "cell_type": "markdown",
   "metadata": {},
   "source": [
    "# Gallery "
   ]
  },
  {
   "attachments": {},
   "cell_type": "markdown",
   "metadata": {},
   "source": [
    "![](OKDO.jpg)\n",
    "- I liked this image beause I want to understand what it takes to understand perspeciv as the water fall and the fountain show different ways of life and what I need to do more to become better is think in another way\n"
   ]
  },
  {
   "attachments": {},
   "cell_type": "markdown",
   "metadata": {},
   "source": [
    "# REFLECTION \n",
    "- At night night at the muesuem I though our project was also good and teh frontend display was good. Also it was an improvement from last trimentsr  we were more prepared and had a better display. Something we could have done better was made the app more user interactive so everyone felt good about the project. \n",
    "- Next time I would like to create more user input and more interaction so the user can test it out and see how everything works around. Also I would like to work on less procrastination and understand what we need to do. Also next time I want to work on the backend first and then have the frontend interactive.\n",
    "- Also next time I would like to have a more fully functioning site\n"
   ]
  },
  {
   "attachments": {},
   "cell_type": "markdown",
   "metadata": {},
   "source": [
    "# Further Goals.\n",
    "- My further goals within my project means that I would like to create more inidividual projects as I learned that coding is a passion that I want to continue. I want to continue to develop my skills through further courses and takes CSA. Also I would like to understand more of the coding work though."
   ]
  }
 ],
 "metadata": {
  "kernelspec": {
   "display_name": "Python 3",
   "language": "python",
   "name": "python3"
  },
  "language_info": {
   "codemirror_mode": {
    "name": "ipython",
    "version": 3
   },
   "file_extension": ".py",
   "mimetype": "text/x-python",
   "name": "python",
   "nbconvert_exporter": "python",
   "pygments_lexer": "ipython3",
   "version": "3.10.9"
  },
  "orig_nbformat": 4,
  "vscode": {
   "interpreter": {
    "hash": "b0fa6594d8f4cbf19f97940f81e996739fb7646882a419484c72d19e05852a7e"
   }
  }
 },
 "nbformat": 4,
 "nbformat_minor": 2
}
