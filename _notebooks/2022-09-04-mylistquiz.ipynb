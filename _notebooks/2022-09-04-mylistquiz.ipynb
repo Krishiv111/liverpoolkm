{
 "cells": [
  {
   "cell_type": "markdown",
   "metadata": {},
   "source": [
    "# My Quiz Using Loops and Lists"
   ]
  },
  {
   "cell_type": "code",
   "execution_count": 31,
   "metadata": {},
   "outputs": [],
   "source": [
    "Quiz = [\n",
    "        \"1. How many Ounces in a gallon?\", \"128\", \n",
    "        \"2. What is the capital of the US?\", \"Washington DC\",\n",
    "        \"3 How many hours in a day?\", \"24\",\n",
    "       ]\n",
    "        \n",
    "     \n",
    "\n",
    "points = 0\n",
    "current = 0 \n",
    "quiz = 1\n",
    "\n",
    "Print = (\"Welcome to my quiz!\")\n",
    "\n",
    "while quiz < 4: \n",
    "    question = input(Quiz[current])\n",
    "    if question == Quiz[current+1]:\n",
    "        print = (\"Nice job you got it!\")\n",
    "        points = points + 10\n",
    "        current = current + 2 \n",
    "    else: \n",
    "             print=(\"sorry that not correct!\")\n",
    "             points = points - 10 \n",
    "             current = current +2 \n",
    "             quiz = quiz +1\n",
    "    msg =( \"nice job you did it!\")\n",
    "    print =(\"msg\")\n"
   ]
  }
 ],
 "metadata": {
  "kernelspec": {
   "display_name": "Python 3.10.6 64-bit",
   "language": "python",
   "name": "python3"
  },
  "language_info": {
   "codemirror_mode": {
    "name": "ipython",
    "version": 3
   },
   "file_extension": ".py",
   "mimetype": "text/x-python",
   "name": "python",
   "nbconvert_exporter": "python",
   "pygments_lexer": "ipython3",
   "version": "3.10.6"
  },
  "orig_nbformat": 4,
  "vscode": {
   "interpreter": {
    "hash": "b0fa6594d8f4cbf19f97940f81e996739fb7646882a419484c72d19e05852a7e"
   }
  }
 },
 "nbformat": 4,
 "nbformat_minor": 2
}
