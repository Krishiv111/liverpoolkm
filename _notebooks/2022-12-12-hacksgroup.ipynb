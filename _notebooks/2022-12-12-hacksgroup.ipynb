{
 "cells": [
  {
   "attachments": {},
   "cell_type": "markdown",
   "metadata": {},
   "source": [
    "# Section 9-11 Hacks\n",
    "> All tangibles and group hacks\n",
    "\n",
    "- layout: default\n",
    "- badges: false\n",
    "- permalink: /collegeboard/error\n",
    "- image: /images/apcsp.png\n",
    "- categories: [1.B, 4.C]\n",
    "- type: ap\n",
    "- week: 7"
   ]
  },
  {
   "attachments": {},
   "cell_type": "markdown",
   "metadata": {},
   "source": [
    "# Notes \n",
    "- Sequential search is not as good as its time consuming and leaves you without use.\n",
    "- Small changes/mistakes can have a big impact on the result\n",
    "- There is often more than one way to achieve the same result\n",
    "- Algorithms can be created from an idea, by combining existing algorithms, or by modifying existing algorithms.\n",
    "\n",
    "# Vocab\n",
    "- Iteration: Repeating steps, or instructions over and over again. ( this could be also often called a loop )\n",
    "- Selection: is a decision or question. At some point in an algorithm there may need to be a question because the algorithm has reached a step where one or more options are available.\n",
    "- Algorithm: A process or set of rules to be followed in calculations or other problem solving operations, especially by a computer.\n"
   ]
  },
  {
   "attachments": {},
   "cell_type": "markdown",
   "metadata": {},
   "source": [
    "### 1 Write this Boolean statement in the form of a conditional (if/else) statement: stayInside⟵((isCold) OR (isRaining))\n",
    "{\n",
    "if(isRaining){\n",
    "    day --> \"cold\"\n",
    "}\n",
    "if(isCold){\n",
    "    day --> \"cold\"\n",
    "}\n",
    "}\n",
    "\n",
    "\n"
   ]
  },
  {
   "cell_type": "code",
   "execution_count": 1,
   "metadata": {},
   "outputs": [
    {
     "name": "stdout",
     "output_type": "stream",
     "text": [
      "[7, 5, 1, 2]\n",
      "Maximum: 7\n"
     ]
    }
   ],
   "source": [
    "#Create an algorithm that uses selection and/or iteration that will represent one player’s complete turn.\n",
    "\n",
    "#During a turn, each player gets 4 attempts/chances to get the greatest number possible.\n",
    "\n",
    "#During each attempt, the player will use a random number generator to select a random number from 1 to 10.\n",
    "\n",
    "import random\n",
    "attempts = []\n",
    "\n",
    "i = 1 \n",
    "while i <= 4:\n",
    "    attempts.append(random.randint(1,10))\n",
    "    i = i + 1\n",
    "    \n",
    "print(attempts)\n",
    "print(\"Maximum:\", max(attempts))\n",
    "\n",
    "# This works due to the fact if i=1 and you have 4 atemps you role between the number 1-10 leaving you to add to i per role "
   ]
  },
  {
   "attachments": {},
   "cell_type": "markdown",
   "metadata": {},
   "source": [
    "### 3\n",
    "\n",
    "Create an algorithm that will allow the arrow to reach the gray square: \n",
    "\n",
    "- {\n",
    "- if CANMOVEFORWARD{\n",
    "    moveForwards\n",
    "- }\n",
    "- else{\n",
    "    if CANTURNRIGHT{\n",
    "        turnright\n",
    "    }\n",
    "    if CANTURNLEFT{\n",
    "        turnleft\n",
    "  -   }\n",
    "- **Explanation:** This shows how the robot wil get down to the grey square as it moves forward rigth and left. \n"
   ]
  },
  {
   "cell_type": "markdown",
   "metadata": {},
   "source": [
    "- }"
   ]
  },
  {
   "attachments": {},
   "cell_type": "markdown",
   "metadata": {},
   "source": [
    "### 4  Make a binary search tree of different the list [1,2,3,4,6,9,11,69]\n",
    "#### questions 4-6\n",
    "\n",
    "\n",
    "![](6.png)\n",
    "\n",
    "\n",
    "![](1.png)\n"
   ]
  },
  {
   "attachments": {},
   "cell_type": "markdown",
   "metadata": {},
   "source": [
    "### Put this list of strings in a order that can be used for binary search [“store”,”Market”,”Walmart”,Target”,”Ralphs”]\n",
    "- To do this you put the list in alphabetical order  which makes it [Market ralphs store target walmart]\n",
    "- This is correct due to setting everything up in the alphabet leaving it to be in this order"
   ]
  },
  {
   "attachments": {},
   "cell_type": "markdown",
   "metadata": {},
   "source": [
    "### 7. Explain why Binary Search is more efficient than Sequential Search\n",
    "\n",
    "Binary search is better than sequencial search as it is a more efficient way to find items within a list rather than setting up everything side by side."
   ]
  },
  {
   "attachments": {},
   "cell_type": "markdown",
   "metadata": {},
   "source": [
    "### 8. [64,36,16,11,9] Explain which number you are finding, how many check it would take, and make a binary search tree\n",
    "- I am finding 36 first I find the middle which is (1+5/2) this would give me the middle and then I would do 1+3/2 which would get me to the number 36 that means. This makes sense becuase binary search is the way of finding the middle of each list and dividing that to make sure you can find a specific number in the list. However if you were to use sequencial search than it would mean you would have to align everything together to find 36 which would take longer and be more inconvienet. \n",
    "![](16.png)"
   ]
  },
  {
   "attachments": {},
   "cell_type": "markdown",
   "metadata": {},
   "source": [
    "### What I learned and What I struggled On \n",
    "- I understood the conditionals and how if else statements worked\n",
    "- I understood the way of algorithms\n",
    "### What I struggled on\n",
    "- On the 4th question I struggled as I dont know if my numbeers are correct as I may have divided wrong not giving me the number"
   ]
  }
 ],
 "metadata": {
  "kernelspec": {
   "display_name": "Python 3",
   "language": "python",
   "name": "python3"
  },
  "language_info": {
   "codemirror_mode": {
    "name": "ipython",
    "version": 3
   },
   "file_extension": ".py",
   "mimetype": "text/x-python",
   "name": "python",
   "nbconvert_exporter": "python",
   "pygments_lexer": "ipython3",
   "version": "3.10.6 (main, Aug 11 2022, 13:37:17) [Clang 13.0.0 (clang-1300.0.29.30)]"
  },
  "orig_nbformat": 4,
  "vscode": {
   "interpreter": {
    "hash": "b0fa6594d8f4cbf19f97940f81e996739fb7646882a419484c72d19e05852a7e"
   }
  }
 },
 "nbformat": 4,
 "nbformat_minor": 2
}
