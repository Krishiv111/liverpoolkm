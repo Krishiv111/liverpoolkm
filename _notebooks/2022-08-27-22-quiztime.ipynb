{
 "cells": [
  {
   "cell_type": "markdown",
   "metadata": {},
   "source": [
    "# Welcome to the life quiz!"
   ]
  },
  {
   "cell_type": "code",
   "execution_count": 1,
   "metadata": {},
   "outputs": [
    {
     "name": "stdout",
     "output_type": "stream",
     "text": [
      "nice job that's correct\n",
      "nice job that's correct\n",
      "nice job that's correct\n"
     ]
    }
   ],
   "source": [
    "points= 0\n",
    "answer = input(\"how many hours are in a day?\")\n",
    "\n",
    "\n",
    "if answer == \"24\":\n",
    "    print (\"nice job that's correct\")\n",
    "    points += 1\n",
    "else:\n",
    "     print (\"sorry that's incorrect\")\n",
    "     points -= 0\n",
    "\n",
    "answer = input(\"True or False? Soccer is the most popular sport in the world?\")\n",
    "\n",
    "if answer == \"true\":\n",
    "    print (\"nice job that's correct\")\n",
    "    points += 1\n",
    "else:\n",
    "     print (\"sorry that's incorrect\")\n",
    "     points -= 0\n",
    "answer = input(\"How many days are in a year?\")\n",
    "\n",
    "if answer == \"365\":\n",
    "    print (\"nice job that's correct\")\n",
    "    points += 1\n",
    "else:\n",
    "     print (\"sorry that's incorrect\")\n",
    "     points -= 0\n",
    "\n"
   ]
  }
 ],
 "metadata": {
  "kernelspec": {
   "display_name": "Python 3.10.6 64-bit",
   "language": "python",
   "name": "python3"
  },
  "language_info": {
   "codemirror_mode": {
    "name": "ipython",
    "version": 3
   },
   "file_extension": ".py",
   "mimetype": "text/x-python",
   "name": "python",
   "nbconvert_exporter": "python",
   "pygments_lexer": "ipython3",
   "version": "3.10.6"
  },
  "orig_nbformat": 4,
  "vscode": {
   "interpreter": {
    "hash": "b0fa6594d8f4cbf19f97940f81e996739fb7646882a419484c72d19e05852a7e"
   }
  }
 },
 "nbformat": 4,
 "nbformat_minor": 2
}
