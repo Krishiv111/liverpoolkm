{
 "cells": [
  {
   "attachments": {},
   "cell_type": "markdown",
   "metadata": {},
   "source": [
    "#  BIG IDEA 2 QUIZ.\n",
    "- toc: true\n",
    "- categories: []\n",
    "- type: hacks\n",
    "- week: 25"
   ]
  },
  {
   "attachments": {},
   "cell_type": "markdown",
   "metadata": {},
   "source": [
    "# Summary \n",
    "I scored a 20/25, on this mcq test, I dont think it was my best however to improve I need to understand why a program can run and what datatypes goes through when needing so that means you need to understand what specifics are defined, also I need to understand bindary and what how the numbers work as it goes from what area "
   ]
  },
  {
   "attachments": {},
   "cell_type": "markdown",
   "metadata": {},
   "source": [
    "![](mq2q1.png)"
   ]
  },
  {
   "attachments": {},
   "cell_type": "markdown",
   "metadata": {},
   "source": [
    "# CORRECTIONS QUESTION 2\n",
    "- This was a misread by me as option A is incorrect due to the fact that lossy compresses images and while loseless images are not functioned to do that leaving my option to be wrong and B to be correct due ot the fact that loseless data is just reconstruction of data within images, and other sets "
   ]
  },
  {
   "attachments": {},
   "cell_type": "markdown",
   "metadata": {},
   "source": [
    "![](yess.png)"
   ]
  },
  {
   "attachments": {},
   "cell_type": "markdown",
   "metadata": {},
   "source": [
    "# CORRECTION\n",
    "- My answer was b becuase technically speaking the database doesent track days only tracks months and years and it does track year so it would be able to compare data."
   ]
  },
  {
   "attachments": {},
   "cell_type": "markdown",
   "metadata": {},
   "source": [
    "![](showing.png)"
   ]
  },
  {
   "attachments": {},
   "cell_type": "markdown",
   "metadata": {},
   "source": [
    "- This is wrong becuase the average isn't talked about it isn't within the data set meaning that it needs to be more specific when looking for answers."
   ]
  },
  {
   "attachments": {},
   "cell_type": "markdown",
   "metadata": {},
   "source": [
    "![](goo.png)"
   ]
  },
  {
   "attachments": {},
   "cell_type": "markdown",
   "metadata": {},
   "source": [
    "# Correction\n",
    "- The reason b is wrong is binary goes from 1 > 1 > 0 not 111 meaning that after the two numbers are both 0s it means it goes to 1 "
   ]
  },
  {
   "attachments": {},
   "cell_type": "markdown",
   "metadata": {},
   "source": [
    "![](coolio.png)"
   ]
  },
  {
   "attachments": {},
   "cell_type": "markdown",
   "metadata": {},
   "source": [
    "# CORRECTIONS \n",
    "The reason this is wrong is buecase the data does filter by all 3 things not by two so the sequences are allowed to be all used as they are all defined within the program"
   ]
  }
 ],
 "metadata": {
  "language_info": {
   "name": "python"
  },
  "orig_nbformat": 4
 },
 "nbformat": 4,
 "nbformat_minor": 2
}
