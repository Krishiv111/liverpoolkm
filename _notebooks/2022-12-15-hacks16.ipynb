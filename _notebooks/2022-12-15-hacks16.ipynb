{
 "cells": [
  {
   "attachments": {},
   "cell_type": "markdown",
   "metadata": {},
   "source": [
    "# Hacks Section 16\n",
    "\n",
    "- layout: default\n",
    "- badges: false\n",
    "- categories: [markdown]"
   ]
  },
  {
   "attachments": {},
   "cell_type": "markdown",
   "metadata": {},
   "source": [
    "# Notes \n",
    "- A simulaton is a way to test things without risking a safety of enviroment hazars \n",
    "- An eperiment are held in the real world while simulations are used to replicate the real world\n",
    "- Simulations can provide estimations for events that can't be recreated in the real world because simulations don't run the risk of safety issues and they can be done without equipment that would be needed for experimentation\n",
    "- Once created, simulations are easier to repeat to obtain more estimations when compared to experiments because experiments often take a long time to set up and execute\n",
    "- A pseudo-random number generator could be used to randomly roll the dice. However, random numbers are highly important in a variety of situations as well. pseudo-random number generators are used to mock the imperfections that are always in the real world and save resources. "
   ]
  },
  {
   "attachments": {},
   "cell_type": "markdown",
   "metadata": {},
   "source": [
    "# Vocab \n",
    "- Simulation: A test that replicates real world scenarios digitally \n",
    "- Experiment: A way to test in the real world \n",
    "- procedure and iteration: purposeful ways to write code for outputs "
   ]
  },
  {
   "attachments": {},
   "cell_type": "markdown",
   "metadata": {},
   "source": [
    " Question | Answer|\n",
    "--| -- | \n",
    "3 | C: because anycode can mock imperfections of the world but psuedo makes it more acurrate | \n",
    "4 |B: due to the fact there is more than 1 air plane flying throughout the sky | \n",
    "5 | C: due to the fact the situation of an expirement and simulation are likely similar | \n",
    "6 |A: Similation as it will save rescoures and be more safe  |\n",
    "7 |A: Simulation as it will be more beneficial for the enviornment |\n",
    "9 |B: experiment due to the fact this would be a calculation using math and factors of students |"
   ]
  }
 ],
 "metadata": {
  "kernelspec": {
   "display_name": "Python 3",
   "language": "python",
   "name": "python3"
  },
  "language_info": {
   "name": "python",
   "version": "3.10.6 (main, Aug 11 2022, 13:37:17) [Clang 13.0.0 (clang-1300.0.29.30)]"
  },
  "orig_nbformat": 4,
  "vscode": {
   "interpreter": {
    "hash": "b0fa6594d8f4cbf19f97940f81e996739fb7646882a419484c72d19e05852a7e"
   }
  }
 },
 "nbformat": 4,
 "nbformat_minor": 2
}
