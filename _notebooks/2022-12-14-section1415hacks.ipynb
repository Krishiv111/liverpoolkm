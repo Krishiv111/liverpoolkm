{
 "cells": [
  {
   "attachments": {},
   "cell_type": "markdown",
   "metadata": {},
   "source": [
    "# Summary of what I learned\n",
    "- In this lesson I learned a lot about libraries which are ways of code that are previously written so users can reuse them. Also I learned about different random functions such as radrange and rad int. Finally I learned about documentation and how it can level up your code through the through explanation it gives.\n",
    "\n",
    "# Vocab\n",
    "- Documentation: The what, how, or why of the code\n",
    "- Libraries: Prewritten code or procedures that can be used to maximize efficiency\n",
    "- API: Data stored in a database that can be accessed via code\n",
    "\n",
    "# Notes \n",
    "- Documentation is understanding the purpose of a procedure when it gets too long\n",
    "-random.choice picks a random item from a list\n",
    "- random.shuffle shuffles a the items in a list\n",
    "- radint: this allows you to generate a random integer from a set range\n",
    "- radrange:can be written like randrange(start, stop, step) where start is the minimum value, stop is the maximum value (like the randint function), and step is the incriment the values can be and its default value is 1 \n",
    "\n",
    "(1) Reflection\n",
    "\n",
    "Thorough notes or summary that reflects understanding of today's lesson.\n",
    "\n",
    "(2) Multiple Choice\n",
    "\n",
    "What does the random(a,b) function generate?\n",
    "A. A random integer from a to be exclusive\n",
    "\n",
    "<mark>B. A random integer from a to b inclusive.</mark>\n",
    "**Explanation** : This is becuase the random integers from a to be pick something within these parameters leaving it to be answer B \n",
    "\n",
    "C. A random word from variable a to variable b exclusive.\n",
    "\n",
    "D. A random word from variable a to variable b inclusive.\n",
    "\n",
    "What is x, y, and z in random.randrange(x, y, z)?\n",
    "<mark>A. x = start, y = stop, z = step</mark>\n",
    "**EXPLANATION** : This is the answer as random rad range gives you a number from one of these sets so in this case x = start y= stop z= step\n",
    "\n",
    "B. x = start, y = step, z = stop\n",
    "\n",
    "C. x = stop, y = start, z = step\n",
    "\n",
    "D. x = step, y = start, z = stop\n",
    "\n",
    "Which of the following is NOT part of the random library?\n",
    "<mark>A. random.item</mark>\n",
    "<mark>This isnt not a known function in random librabries</mark>\n",
    "\n",
    "B. random.random\n",
    "\n",
    "C. random.shuffle\n",
    "\n",
    "D. random.randint\n",
    "\n",
    "(3) Short Answer Questions\n",
    "\n",
    "What is the advantage of using libraries?\n",
    "<mark>ANSWER: The advantage of using libraries is its a faster and more easier way to get code rather than having to write it and test it.</mark>\n"
   ]
  },
  {
   "cell_type": "code",
   "execution_count": 1,
   "metadata": {},
   "outputs": [
    {
     "name": "stdout",
     "output_type": "stream",
     "text": [
      "krishiv is going to buy the meal today!\n"
     ]
    }
   ],
   "source": [
    "import random # importants random library \n",
    "\n",
    "names_string = input(\"Give me everybody's names, seperated by a comma.\")\n",
    "# gets the names of \"everybody\" and then splits them into a list using the .split() method\n",
    "names = names_string.split(\",\")\n",
    "\n",
    "num_items = len(names)\n",
    "# Finds the number of items through the length of the names list\n",
    "random_choice = random.randint(0, num_items - 1)\n",
    "# uses a random number from getting randint function\n",
    "\n",
    "person_who_will_pay = names[random_choice]\n",
    "# assigns whoever to pay with the random choice\n",
    "\n",
    "print(f\"{person_who_will_pay} is going to buy the meal today!\")\n",
    "# prints whats going to be displayed. "
   ]
  },
  {
   "attachments": {},
   "cell_type": "markdown",
   "metadata": {},
   "source": [
    "# Task 1 "
   ]
  },
  {
   "cell_type": "code",
   "execution_count": 6,
   "metadata": {},
   "outputs": [
    {
     "name": "stdout",
     "output_type": "stream",
     "text": [
      "caleb\n",
      "Bran\n",
      "qais\n"
     ]
    }
   ],
   "source": [
    "import random\n",
    "\n",
    "lst = [\"chris\", \"Dan,\" \"Madi\",\"mulchy\", \"Merua\", \"Juan\", \"Bran\",\"Kimmy\", \"krishiv\", 'qais', \"caleb\", \"jhon\", \"bob\", \"tod\", \"sherly\"]\n",
    "\n",
    "for i in range(3): # tells to pick the 3 name \n",
    "    print(random.choice(lst)) # print these names from a list"
   ]
  },
  {
   "attachments": {},
   "cell_type": "markdown",
   "metadata": {},
   "source": [
    "# Task 2"
   ]
  },
  {
   "cell_type": "code",
   "execution_count": 8,
   "metadata": {},
   "outputs": [
    {
     "name": "stdout",
     "output_type": "stream",
     "text": [
      "Krishiv,\n",
      "You rolled 8 in total!\n",
      "Jermey,\n",
      "You rolled 9 in total!\n"
     ]
    }
   ],
   "source": [
    "import random\n",
    "\n",
    "def roll_dice():\n",
    "  die1 = random.randint(1, 6)\n",
    "  die2 = random.randint(1, 6)\n",
    "  return die1 + die2\n",
    "\n",
    "num_players = 2\n",
    "\n",
    "player1 = [\"Krishiv\"]\n",
    "player2 = [\"Jermey\"]\n",
    "\n",
    "for player in player1:\n",
    "  print(f\"{player1[0]},\")\n",
    "  krishivscore = roll_dice()\n",
    "  print(f\"You rolled {krishivscore} in total!\")\n",
    "\n",
    "for player in player2:\n",
    "  print(f\"{player2[0]},\")\n",
    "  krishivscore = roll_dice()\n",
    "  print(f\"You rolled {krishivscore} in total!\")\n",
    "\n",
    "# Explanation: First I took my two player which is krishiv and jermey, then I made sure to define them with the special rad int function to simulate rolling the dice. Then I made a loop displaying how the dice would be rolled as it prints a number the person rolled"
   ]
  }
 ],
 "metadata": {
  "kernelspec": {
   "display_name": "Python 3",
   "language": "python",
   "name": "python3"
  },
  "language_info": {
   "codemirror_mode": {
    "name": "ipython",
    "version": 3
   },
   "file_extension": ".py",
   "mimetype": "text/x-python",
   "name": "python",
   "nbconvert_exporter": "python",
   "pygments_lexer": "ipython3",
   "version": "3.10.6"
  },
  "orig_nbformat": 4,
  "vscode": {
   "interpreter": {
    "hash": "b0fa6594d8f4cbf19f97940f81e996739fb7646882a419484c72d19e05852a7e"
   }
  }
 },
 "nbformat": 4,
 "nbformat_minor": 2
}
