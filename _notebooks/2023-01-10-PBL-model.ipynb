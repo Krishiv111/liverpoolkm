{
 "cells": [
  {
   "attachments": {},
   "cell_type": "markdown",
   "metadata": {},
   "source": [
    "# Model and Object-Oriented Programming\n",
    "> Object Oriented Programming is a part of learning Python.  The objective of this blog is to introduce OOP with the intention of PBL task to create a database.  The foundations for a database is defining a Class and understanding instance data and methods.  A database is often a focus of backend coding as it will store persistent data, that can be recalled after the immediate session is closed.\n",
    "\n",
    "- title: Model and Object-Oriented Programming\n",
    "- toc: true\n",
    "- categories: []\n",
    "- image: /images/python.png\n",
    "- type: pbl\n",
    "- week: 18"
   ]
  },
  {
   "attachments": {},
   "cell_type": "markdown",
   "metadata": {},
   "source": [
    "## Class and Object Terms\n",
    "> The foundations of Object-Oriented Programming is defining a ***Class***  \n",
    "* In Object-Oriented Programming (OOP), a class is a blueprint for creating an ***Object***. (a data structure).  An Object is used like many other Python variables.\n",
    "* A Class has ...\n",
    "    * a collection of data, these are called ***Attributes*** and in Python are pre-fixed using the keyword ***self***\n",
    "    * a collection of Functions/Procedures.  These are called ***Methods** when they exist inside a Class definition.\n",
    "* An Object is created from the Class/Template.  Characteristics of objects ...\n",
    "   * an Object is an ***Instance*** of the Class/Template\n",
    "   * there can be many Objects created from the same Class\n",
    "   * each Object contains its own ***Instance Data***\n",
    "   * the data is setup by the ***Constructor***, this is the \"__init__\" method in a Python class\n",
    "   * all methods in the Class/Template become part of the Object, methods are accessed using ***dot notation*** (object.method())\n",
    "* A Python Class allow for the definition of @ decorators, these allow access to instance data without the use of functions ...\n",
    "    * @property decorator (aka getter).  This enables developers to reference/get instance data in a shorthand fashion (object.name versus object.get_name())\n",
    "    * @name.setter decorator (aka setter).  This enables developers to update/set instance data in a shorthand fashion (object.name = \"John\" versus object.set_name(\"John\"))\n",
    "    * observe all instance data (self._name, self._email ...) are prefixed with \"_\", this convention allows setters and getters to work with more natural variable name (name, email ...)"
   ]
  },
  {
   "cell_type": "markdown",
   "metadata": {},
   "source": [
    "## Class and Object Code"
   ]
  },
  {
   "cell_type": "code",
   "execution_count": 5,
   "metadata": {},
   "outputs": [
    {
     "name": "stdout",
     "output_type": "stream",
     "text": [
      "Test 1, find user 3\n",
      "name: \"Thomas Edison\", id: \"toby\", psw: \"sha256$8TX...\", classof: \"Thomas Edison\"\n",
      "name: \"Nicholas Tesla\", id: \"nick\", psw: \"sha256$lsa...\", classof: \"Nicholas Tesla\"\n",
      "* name: \"Alexander Graham Bell\", id: \"lex\", psw: \"sha256$Rg1...\", classof: \"Alexander Graham Bell\"\n",
      "name: \"Eli Whitney\", id: \"eli\", psw: \"sha256$wD6...\", classof: \"Eli Whitney\"\n",
      "name: \"Hedy Lemarr\", id: \"hedy\", psw: \"sha256$SYg...\", classof: \"Hedy Lemarr\"\n",
      "Test 2, change user 3\n",
      "name: \"Thomas Edison\", id: \"toby\", psw: \"sha256$8TX...\", classof: \"Thomas Edison\"\n",
      "name: \"Nicholas Tesla\", id: \"nick\", psw: \"sha256$lsa...\", classof: \"Nicholas Tesla\"\n",
      "* name: \"John Mortensen\", id: \"jm1021\", psw: \"sha256$AAE...\", classof: \"John Mortensen\"\n",
      "name: \"Eli Whitney\", id: \"eli\", psw: \"sha256$wD6...\", classof: \"Eli Whitney\"\n",
      "name: \"Hedy Lemarr\", id: \"hedy\", psw: \"sha256$SYg...\", classof: \"Hedy Lemarr\"\n",
      "Test 3, make a dictionary\n",
      "[{\"_name\": \"Thomas Edison\", \"_uid\": \"toby\", \"_password\": \"sha256$8TXTm9aaoEuZy0li$bdde34ef1ac1d8b47818806f1ebf25a8e402d0faab8f699388cc2f04b4ff078b\", \"_classof\": \"1897\"}, {\"_name\": \"Nicholas Tesla\", \"_uid\": \"nick\", \"_password\": \"sha256$lsamPlBphqspy8QR$f90978f0b1f7a389a87e23cd3e0f379fd22ad9cdad2b1de2c1e6e62545f7b2a4\", \"_classof\": \"1994\"}, {\"_name\": \"John Mortensen\", \"_uid\": \"jm1021\", \"_password\": \"sha256$AAESpDtfzxNymoBg$96f7713068cf9118eb2a40045746bf409cbf3fd544e91e80009abb7485389b78\", \"_classof\": \"1980\"}, {\"_name\": \"Eli Whitney\", \"_uid\": \"eli\", \"_password\": \"sha256$wD6wn0se6spxSfgR$5356ded1237a2d1592fb6291d46395790329b7a43cd9028dfa1a3fb118ed9735\", \"_classof\": \"1954\"}, {\"_name\": \"Hedy Lemarr\", \"_uid\": \"hedy\", \"_password\": \"sha256$SYgNCRKpbV2eaMmE$7061ab0acf1761b8bf20df083126458cdc57001110d83608c270e950410dd10d\", \"_classof\": \"1902\"}]\n",
      "Test 4, make a dictionary\n",
      "[{\"_name\": \"Thomas Edison\", \"_uid\": \"toby\", \"_password\": \"sha256$8TXTm9aaoEuZy0li$bdde34ef1ac1d8b47818806f1ebf25a8e402d0faab8f699388cc2f04b4ff078b\", \"_classof\": \"1897\"}, {\"_name\": \"Nicholas Tesla\", \"_uid\": \"nick\", \"_password\": \"sha256$lsamPlBphqspy8QR$f90978f0b1f7a389a87e23cd3e0f379fd22ad9cdad2b1de2c1e6e62545f7b2a4\", \"_classof\": \"1994\"}, {\"_name\": \"John Mortensen\", \"_uid\": \"jm1021\", \"_password\": \"sha256$AAESpDtfzxNymoBg$96f7713068cf9118eb2a40045746bf409cbf3fd544e91e80009abb7485389b78\", \"_classof\": \"1980\"}, {\"_name\": \"Eli Whitney\", \"_uid\": \"eli\", \"_password\": \"sha256$wD6wn0se6spxSfgR$5356ded1237a2d1592fb6291d46395790329b7a43cd9028dfa1a3fb118ed9735\", \"_classof\": \"1954\"}, {\"_name\": \"Hedy Lemarr\", \"_uid\": \"hedy\", \"_password\": \"sha256$SYgNCRKpbV2eaMmE$7061ab0acf1761b8bf20df083126458cdc57001110d83608c270e950410dd10d\", \"_classof\": \"1902\"}]\n"
     ]
    }
   ],
   "source": [
    "# Werkzeug is a collection of libraries that can be used to create a WSGI (Web Server Gateway Interface)\n",
    "# A gateway in necessary as a web server cannot communicate directly with Python.\n",
    "# In this case, imports are focused on generating hash code to protect passwords.\n",
    "from werkzeug.security import generate_password_hash, check_password_hash\n",
    "import json\n",
    "\n",
    "# Define a User Class/Template\n",
    "# -- A User represents the data we want to manage\n",
    "class User:    \n",
    "    # constructor of a User object, initializes the instance variables within object (self)\n",
    "    def __init__(self, name, uid, password, classof):\n",
    "        self._name = name    # variables with self prefix become part of the object, \n",
    "        self._uid = uid\n",
    "        self.set_password(password)\n",
    "        self._classof = classof\n",
    "\n",
    "    # a name getter method, extracts name from object\n",
    "    @property\n",
    "    def name(self):\n",
    "        return self._name\n",
    "    \n",
    "    # a setter function, allows name to be updated after initial object creation\n",
    "    @name.setter\n",
    "    def name(self, name):\n",
    "        self._name = name\n",
    "    \n",
    "    # a getter method, extracts email from object\n",
    "    @property\n",
    "    def uid(self):\n",
    "        return self._uid\n",
    "    \n",
    "    # a setter function, allows name to be updated after initial object creation\n",
    "    @uid.setter\n",
    "    def uid(self, uid):\n",
    "        self._uid = uid\n",
    "        \n",
    "        \n",
    "    # check if uid parameter matches user id in object, return boolean\n",
    "    def is_uid(self, uid):\n",
    "        return self._uid == uid\n",
    "    \n",
    "    @property\n",
    "    def classof(self, classof):\n",
    "        return self._classof\n",
    "\n",
    "    @name.setter\n",
    "    def classof(self, classof):\n",
    "        self._classof = classof\n",
    "\n",
    "    \n",
    "    @property\n",
    "    def password(self):\n",
    "        return self._password[0:10] + \"...\" # because of security only show 1st characters\n",
    "\n",
    "    # update password, this is conventional setter\n",
    "    def set_password(self, password):\n",
    "        \"\"\"Create a hashed password.\"\"\"\n",
    "        self._password = generate_password_hash(password, method='sha256')\n",
    "\n",
    "    # check password parameter versus stored/encrypted password\n",
    "    def is_password(self, password):\n",
    "        \"\"\"Check against hashed password.\"\"\"\n",
    "        result = check_password_hash(self._password, password)\n",
    "        return result\n",
    "    \n",
    "    # output content using str(object) in human readable form, uses getter\n",
    "    def __str__(self):\n",
    "        return f'name: \"{self.name}\", id: \"{self.uid}\", psw: \"{self.password}\", classof: \"{self.classof}\"'\n",
    "\n",
    "    # output command to recreate the object, uses attribute directly\n",
    "    def __repr__(self):\n",
    "        return f'Person(name={self._name}, uid={self._uid}, password={self._password}), classof{self._classof}'\n",
    "\n",
    "\n",
    "# tester method to print users\n",
    "def tester(users, uid, psw, classof):\n",
    "    result = None\n",
    "    for user in users:\n",
    "        # test for match in database\n",
    "        if user.uid == uid and user.is_password(psw):  # check for match\n",
    "            print(\"* \", end=\"\")\n",
    "            result = user\n",
    "        # print using __str__ method\n",
    "        print(str(user))\n",
    "    return result\n",
    "        \n",
    "\n",
    "# place tester code inside of special if!  This allows include without tester running\n",
    "if __name__ == \"__main__\":\n",
    "\n",
    "    # define user objects\n",
    "    u1 = User(name='Thomas Edison', uid='toby', password='123toby', classof='1897')\n",
    "    u2 = User(name='Nicholas Tesla', uid='nick', password='123nick', classof='1994')\n",
    "    u3 = User(name='Alexander Graham Bell', uid='lex', password='123lex', classof='1990')\n",
    "    u4 = User(name='Eli Whitney', uid='eli', password='123eli', classof='1954')\n",
    "    u5 = User(name='Hedy Lemarr', uid='hedy', password='123hedy', classof='1902')\n",
    "\n",
    "    # put user objects in list for convenience\n",
    "    users = [u1, u2, u3, u4, u5]\n",
    "\n",
    "    # Find user\n",
    "    print(\"Test 1, find user 3\")\n",
    "    u = tester(users, u3.uid, \"123lex\", u3.classof)\n",
    "\n",
    "\n",
    "    # Change user\n",
    "    print(\"Test 2, change user 3\")\n",
    "    u.name = \"John Mortensen\"\n",
    "    u.uid = \"jm1021\"\n",
    "    u.set_password(\"123qwerty\")\n",
    "    u.classof = \"1980\"\n",
    "    u = tester(users, u.uid, \"123qwerty\", u3.classof)\n",
    "\n",
    "\n",
    "    # Make dictionary\n",
    "    ''' \n",
    "    The __dict__ in Python represents a dictionary or any mapping object that is used to store the attributes of the object. \n",
    "    Every object in Python has an attribute that is denoted by __dict__. \n",
    "    Use the json.dumps() method to convert the list of Users to a JSON string.\n",
    "    '''\n",
    "    print(\"Test 3, make a dictionary\")\n",
    "    json_string = json.dumps([user.__dict__ for user in users]) \n",
    "    print(json_string)\n",
    "\n",
    "    print(\"Test 4, make a dictionary\")\n",
    "    json_string = json.dumps([vars(user) for user in users]) \n",
    "    print(json_string)"
   ]
  },
  {
   "attachments": {},
   "cell_type": "markdown",
   "metadata": {},
   "source": [
    "## Hacks\n",
    "> Add new attributes/variables to the Class.  Make class specific to your CPT work.\n",
    "- Add classOf attribute to define year of graduation\n",
    "    - Add setter and getter for classOf\n",
    "- Add dob attribute to define date of birth\n",
    "    - This will require investigation into Python datetime objects as shown in example code below\n",
    "    - Add setter and getter for dob\n",
    "- Add instance variable for age, make sure if dob changes age changes\n",
    "    - Add getter for age, but don't add/allow setter for age\n",
    "- Update and format tester function to work with changes\n",
    "\n",
    "> Start a class design for each of your own Full Stack CPT sections of your project\n",
    "- Use new `code cell` in this notebook\n",
    "- Define _init_ and self attributes\n",
    "- Define setters and getters\n",
    "- Make a tester"
   ]
  },
  {
   "cell_type": "markdown",
   "metadata": {},
   "source": [
    "## Start Code for Hacks"
   ]
  },
  {
   "cell_type": "code",
   "execution_count": 2,
   "metadata": {},
   "outputs": [
    {
     "name": "stdout",
     "output_type": "stream",
     "text": [
      "18\n"
     ]
    }
   ],
   "source": [
    "from datetime import date\n",
    "\n",
    "def calculate_age(born):\n",
    "    today = date.today()\n",
    "    return today.year - born.year - ((today.month, today.day) < (born.month, born.day))\n",
    "\n",
    "dob = date(2004, 12, 31)\n",
    "age = calculate_age(dob)\n",
    "print(age)"
   ]
  },
  {
   "cell_type": "markdown",
   "metadata": {},
   "source": []
  }
 ],
 "metadata": {
  "kernelspec": {
   "display_name": "base",
   "language": "python",
   "name": "python3"
  },
  "language_info": {
   "codemirror_mode": {
    "name": "ipython",
    "version": 3
   },
   "file_extension": ".py",
   "mimetype": "text/x-python",
   "name": "python",
   "nbconvert_exporter": "python",
   "pygments_lexer": "ipython3",
   "version": "3.9.12"
  },
  "orig_nbformat": 4,
  "vscode": {
   "interpreter": {
    "hash": "43c09aa7d72bbb8589d886df17a7e5da9ebce53adc646f4570ea1642cd0b0c63"
   }
  }
 },
 "nbformat": 4,
 "nbformat_minor": 2
}
