{
 "cells": [
  {
   "cell_type": "markdown",
   "metadata": {},
   "source": [
    "# Developing Procedures 3.13.2"
   ]
  },
  {
   "cell_type": "markdown",
   "metadata": {},
   "source": [
    "# Essential Knowledge\n",
    "- <mark>Procedure</mark> -is a named group of programming instructions that serves a purpose\n",
    "- <mark>How to code Procedures</mark> -While Coding a procedure you must makes sure it has as name and a clear purpose weather to executre a response or complete an action"
   ]
  },
  {
   "cell_type": "markdown",
   "metadata": {},
   "source": [
    "# How do we make our procedure purposeful and consice\n",
    "- to make a procedure serve a purpose it should be able to hae multiple functions\n",
    "- Also to keep a procedure maximizing capability it should be simple and reduced to get the final result "
   ]
  },
  {
   "cell_type": "markdown",
   "metadata": {},
   "source": [
    "# What is important to do while writing procedures\n",
    "- It is important to understand you procudeures procedure does when creating one as it will help you create a impactful procedure"
   ]
  },
  {
   "cell_type": "markdown",
   "metadata": {},
   "source": [
    "### Procedure That Update Grade Based on retake\n",
    "- after you take a quiz your teacher lets you retake it for full credit in which your are able to replace your grade \n",
    "- TEST WITH first quiz GRADE is 40% and second is 90%\n",
    "- PROCEDURE updateGRADE {  points, current grade,new grade\n",
    "   - currentGrade = current points /75\n",
    "   - currentGrade = current crade * 100\n",
    "  -  if currentGrade > quizGrade\n",
    "  -  return currentGrade\n",
    "- }\n"
   ]
  },
  {
   "cell_type": "markdown",
   "metadata": {},
   "source": []
  }
 ],
 "metadata": {
  "kernelspec": {
   "display_name": "Python 3.10.6 64-bit",
   "language": "python",
   "name": "python3"
  },
  "language_info": {
   "name": "python",
   "version": "3.10.6 (main, Aug 11 2022, 13:37:17) [Clang 13.0.0 (clang-1300.0.29.30)]"
  },
  "orig_nbformat": 4,
  "vscode": {
   "interpreter": {
    "hash": "b0fa6594d8f4cbf19f97940f81e996739fb7646882a419484c72d19e05852a7e"
   }
  }
 },
 "nbformat": 4,
 "nbformat_minor": 2
}
