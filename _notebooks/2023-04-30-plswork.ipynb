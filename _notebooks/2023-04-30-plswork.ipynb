{
 "cells": [
  {
   "attachments": {},
   "cell_type": "markdown",
   "metadata": {},
   "source": [
    "# HACKS FOR THE SQL\n",
    "- categories: []\n",
    "- type: ap\n",
    "- week: 28"
   ]
  },
  {
   "cell_type": "code",
   "execution_count": 24,
   "metadata": {},
   "outputs": [],
   "source": [
    "import sqlite3\n",
    "\n",
    "def create_hacks_file():\n",
    "    connection = sqlite3.connect('instance/team.db')\n",
    "    cursor = connection.cursor()\n",
    "\n",
    "    cursor.execute('''CREATE TABLE IF NOT EXISTS team (\n",
    "                    name TEXT,\n",
    "                    value TEXT,\n",
    "                    league TEXT\n",
    "                                      \n",
    "                )''')\n",
    "\n",
    "    connection.commit()\n",
    "    connection.close()\n",
    "\n",
    "create_hacks_file()"
   ]
  },
  {
   "cell_type": "code",
   "execution_count": 26,
   "metadata": {},
   "outputs": [
    {
     "name": "stdout",
     "output_type": "stream",
     "text": [
      "ace has been added to the list of teams.\n"
     ]
    }
   ],
   "source": [
    "import sqlite3\n",
    "\n",
    "def create():\n",
    "   db_file = 'instance/team.db'\n",
    "   name = input(\"team name \")\n",
    "   value = input(\"team value \")\n",
    "   league  = input(\" league of team \")\n",
    "\n",
    "\n",
    "\n",
    "   connection = sqlite3.connect(db_file)\n",
    "   cursor = connection.cursor()\n",
    "\n",
    "\n",
    "   try:\n",
    "       cursor.execute(\"INSERT INTO team (name, value, league) VALUES (?, ?, ?)\", (name, value, league))\n",
    "       connection.commit()\n",
    "       print(f\"{name} has been added to the list of teams.\")\n",
    "              \n",
    "   except sqlite3.Error as error:\n",
    "       print(\"Error while inserting record\", error)\n",
    "\n",
    "\n",
    "   cursor.close()\n",
    "   connection.close()\n",
    "\n",
    "create()"
   ]
  },
  {
   "cell_type": "code",
   "execution_count": 27,
   "metadata": {},
   "outputs": [
    {
     "name": "stdout",
     "output_type": "stream",
     "text": [
      "List of teams:\n",
      "name: a,\n",
      "name: a,\n",
      "value: a,\n",
      "league:\n",
      "name: ,\n",
      "name: ,\n",
      "value: ,\n",
      "league:\n",
      "name: ace,\n",
      "name: four,\n",
      "value: ecnl,\n",
      "league:\n"
     ]
    }
   ],
   "source": [
    "def read():\n",
    "    try:\n",
    "        connection = sqlite3.connect('instance/team.db')\n",
    "        cursor = connection.cursor()\n",
    "\n",
    "        cursor.execute(\"SELECT * FROM team\")\n",
    "        rows = cursor.fetchall()\n",
    "\n",
    "        if len(rows) > 0:\n",
    "            print(\"List of teams:\")\n",
    "            for row in rows:\n",
    "                print(f\"name: {row[0]},\\nname: {row[1]},\\nvalue: {row[2]},\\nleague:\")\n",
    "        else:\n",
    "            print(\"There are no teams in the list.\")\n",
    "\n",
    "    except sqlite3.Error as error:\n",
    "        print(\"Error while connecting to the db_file:\", error)\n",
    "\n",
    "    finally:\n",
    "        cursor.close()\n",
    "        connection.close()\n",
    "\n",
    "read()\n"
   ]
  },
  {
   "cell_type": "code",
   "execution_count": 30,
   "metadata": {},
   "outputs": [
    {
     "name": "stdout",
     "output_type": "stream",
     "text": [
      "Enter the new information for the team:\n",
      "'s record has been updated.\n"
     ]
    }
   ],
   "source": [
    "def update():\n",
    "    db_file = 'instance/team.db'\n",
    "    connection = sqlite3.connect(db_file)\n",
    "    cursor = connection.cursor()\n",
    "    \n",
    "    try:\n",
    "        name = input(\"Enter the team to update: \")\n",
    "        \n",
    "        cursor.execute(\"SELECT * FROM team WHERE name=?\", (name,))\n",
    "        record = cursor.fetchone()\n",
    "        \n",
    "        if record:\n",
    "            print(\"Enter the new information for the team:\")\n",
    "            name = input(f\"Current name: {record[0]}\\nNew name: \")\n",
    "            value = input(f\"Current value: {record[1]}\\nNew value: \")\n",
    "            league = input(f\"Current league: {record[2]}\\nNew league: \")\n",
    "            \n",
    "            cursor.execute(\"UPDATE team SET name=?, value=?, league=? WHERE name=?\", (name, value, league, name))\n",
    "            connection.commit()\n",
    "            \n",
    "            print(f\"{name}'s record has been updated.\")\n",
    "        \n",
    "        else:\n",
    "            print(f\"No record found for {name}.\")\n",
    "    \n",
    "    except sqlite3.Error as error:\n",
    "        print(\"Error while updating record\", error)\n",
    "    \n",
    "    cursor.close()\n",
    "    connection.close()\n",
    "\n",
    "update()\n",
    "\n"
   ]
  },
  {
   "cell_type": "code",
   "execution_count": 29,
   "metadata": {},
   "outputs": [],
   "source": [
    "def delete():\n",
    "    connection = sqlite3.connect('instance/team.db')\n",
    "    cursor = connection.cursor()\n",
    "\n",
    "    name = input(\"Enter the name you want to delete: \")\n",
    "\n",
    "    cursor.execute(\"SELECT * FROM team WHERE name=?\", (name,))\n",
    "    row = cursor.fetchone()\n",
    "\n",
    "    if row:\n",
    "        confirm = input(f\"Are you sure you want to delete {name}? (y/n): \")\n",
    "        if confirm.lower() == 'y':\n",
    "            cursor.execute(\"DELETE FROM team WHERE brand=?\", (name,))\n",
    "            connection.commit()\n",
    "            print(f\"{name} has been deleted from the list of teams \")\n",
    "    else:\n",
    "        print(f\"{name} not found in the list teams.\")\n",
    "\n",
    "    \n",
    "    cursor.close()\n",
    "    connection.close()\n",
    "\n",
    "delete()"
   ]
  },
  {
   "cell_type": "code",
   "execution_count": 31,
   "metadata": {},
   "outputs": [
    {
     "name": "stdout",
     "output_type": "stream",
     "text": [
      "Create Operation\n",
      "del mar sharks has been added to the list of teams.\n"
     ]
    }
   ],
   "source": [
    "def table():\n",
    "    operation = input(\"Enter: (C)reate (R)ead (U)pdate or (D)elete\")\n",
    "    if operation.lower() == 'c':\n",
    "        print(\"Create Operation\")\n",
    "        create()\n",
    "    elif operation.lower() == 'r':\n",
    "        print(\"Read Operation\")\n",
    "        read()\n",
    "    elif operation.lower() == 'u':\n",
    "        print(\"Update Operation\")\n",
    "        update()\n",
    "    elif operation.lower() == 'd':\n",
    "        print(\"Delete Operation\")\n",
    "        delete()\n",
    "    elif len(operation)==0:\n",
    "        return\n",
    "    else:\n",
    "        print(\"Please enter c, r, u, or d\")\n",
    "    table()\n",
    "\n",
    "try:\n",
    "    table()\n",
    "except:\n",
    "    print(\"Perform Jupyter 'Run All' prior to starting table\")\n",
    "\n",
    "table()"
   ]
  }
 ],
 "metadata": {
  "kernelspec": {
   "display_name": "base",
   "language": "python",
   "name": "python3"
  },
  "language_info": {
   "codemirror_mode": {
    "name": "ipython",
    "version": 3
   },
   "file_extension": ".py",
   "mimetype": "text/x-python",
   "name": "python",
   "nbconvert_exporter": "python",
   "pygments_lexer": "ipython3",
   "version": "3.9.12"
  },
  "orig_nbformat": 4
 },
 "nbformat": 4,
 "nbformat_minor": 2
}
