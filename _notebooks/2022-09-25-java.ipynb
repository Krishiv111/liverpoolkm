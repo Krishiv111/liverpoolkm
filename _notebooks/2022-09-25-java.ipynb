{
 "cells": [
  {
   "cell_type": "markdown",
   "metadata": {},
   "source": [
    "# JavaScript Tutorial\n",
    "\n"
   ]
  },
  {
   "cell_type": "code",
   "execution_count": 1,
   "metadata": {},
   "outputs": [
    {
     "name": "stdout",
     "output_type": "stream",
     "text": [
      "Hello, World!\n",
      "testing out java console.log\n",
      "trial\n"
     ]
    }
   ],
   "source": [
    "console.log(\"Hello, World!\");\n",
    "console.log(\"testing out java console.log\")\n",
    "console.log(\"trial\")"
   ]
  },
  {
   "cell_type": "code",
   "execution_count": 2,
   "metadata": {},
   "outputs": [
    {
     "name": "stdout",
     "output_type": "stream",
     "text": [
      "Hello, World!\n"
     ]
    }
   ],
   "source": [
    "var msg = \"Hello, World!\";\n",
    "console.log(msg);"
   ]
  },
  {
   "cell_type": "code",
   "execution_count": 3,
   "metadata": {},
   "outputs": [
    {
     "name": "stdout",
     "output_type": "stream",
     "text": [
      "Hello, World!\n"
     ]
    }
   ],
   "source": [
    "function logIt(output) {\n",
    "    console.log(output);\n",
    "}\n",
    "logIt(msg);"
   ]
  },
  {
   "cell_type": "code",
   "execution_count": 13,
   "metadata": {},
   "outputs": [
    {
     "name": "stdout",
     "output_type": "stream",
     "text": [
      "Reuse of logIT\n",
      "Hello, Mr Yeung Please Give Me a 3!\n",
      "100\n",
      "percent!\n"
     ]
    }
   ],
   "source": [
    "console.log(\"Reuse of logIT\")\n",
    "logIt(\"Hello, Mr Yeung Please Give Me a 3!\");\n",
    "logIt(100)\n",
    "logIt(\"percent!\")"
   ]
  },
  {
   "cell_type": "code",
   "execution_count": 16,
   "metadata": {},
   "outputs": [
    {
     "name": "stdout",
     "output_type": "stream",
     "text": [
      "Testing Out JavaScript Functions\n",
      "string ;  A string\n",
      "number ; 2020\n",
      "object ; [ 1, 2, 3 ]\n"
     ]
    }
   ],
   "source": [
    "function logItType(output) {\n",
    "    console.log(typeof output, \";\", output);\n",
    "}\n",
    "console.log(\"Testing Out JavaScript Functions\")\n",
    "logItType(\" A string\"); \n",
    "logItType(2020);  \n",
    "logItType([1, 2, 3]);  "
   ]
  },
  {
   "cell_type": "code",
   "execution_count": 17,
   "metadata": {},
   "outputs": [
    {
     "name": "stdout",
     "output_type": "stream",
     "text": [
      "object ; Person {\n",
      "  player: 'Krishiv',\n",
      "  team: ' Del Mar Sharks',\n",
      "  region: 'USA',\n",
      "  role: 'Player' }\n",
      "string ; {\"player\":\"Krishiv\",\"team\":\" Del Mar Sharks\",\"region\":\"USA\",\"role\":\"Player\"}\n"
     ]
    }
   ],
   "source": [
    "\n",
    "function Person(player, team, region) {\n",
    "    this.player = player;\n",
    "    this.team = team;\n",
    "    this.region = region;\n",
    "    this.role = \"\";\n",
    "}\n",
    "\n",
    "\n",
    "Person.prototype.setRole = function(role) {\n",
    "    this.role = role;\n",
    "}\n",
    "\n",
    "\n",
    "Person.prototype.toJSON = function() {\n",
    "    const obj = {player: this.player, team: this.team, region: this.region, role: this.role};\n",
    "    const json = JSON.stringify(obj);\n",
    "    return json;\n",
    "}\n",
    "\n",
    "var Player = new Person(\"Krishiv\", \" Del Mar Sharks\",\"USA\" );\n",
    "Player.setRole(\"Player\");\n",
    "\n",
    "logItType(Player); \n",
    "logItType(Player.toJSON());  "
   ]
  },
  {
   "cell_type": "code",
   "execution_count": 37,
   "metadata": {},
   "outputs": [
    {
     "name": "stdout",
     "output_type": "stream",
     "text": [
      "object ; [ Person { name: 'Mr M', ghID: 'jm1021', classOf: 1977, role: 'Teacher' },\n",
      "  Person {\n",
      "    player: 'Messi',\n",
      "    team: 'PSG',\n",
      "    region: 'europe',\n",
      "    role: 'Student' },\n",
      "  Person {\n",
      "    player: 'Ronaldo',\n",
      "    team: 'ManU',\n",
      "    region: 'europe',\n",
      "    role: 'Student' },\n",
      "  Person { player: 'vela', team: 'LAFC', region: 'USA', role: 'Student' },\n",
      "  Person {\n",
      "    player: 'mount',\n",
      "    team: 'CHELSEA FC',\n",
      "    region: 'europe',\n",
      "    role: 'Student' } ]\n",
      "string ; Mr M\n",
      "string ; {\"name\":\"Mr M\",\"ghID\":\"jm1021\",\"classOf\":1977,\"role\":\"Teacher\"}\n",
      "object ; { name: 'Mr M', ghID: 'jm1021', classOf: 1977, role: 'Teacher' }\n"
     ]
    }
   ],
   "source": [
    "\n",
    "var gamers = [ \n",
    "    new Person(\"Messi\", \"PSG\", \"europe\"),\n",
    "    new Person(\"Ronaldo\", \"ManU\", \"europe\"),\n",
    "    new Person(\"vela\", \"LAFC\", \"USA\"),\n",
    "    new Person(\"mount\", \"CHELSEA FC\", \"europe\"),\n",
    "\n",
    "];\n",
    "\n",
    "function Classroom(teacher, students){ \n",
    "    \n",
    "    teacher.setRole(\"Teacher\");\n",
    "    this.teacher = teacher;\n",
    "    this.classroom = [teacher];\n",
    " \n",
    "    this.students = students;\n",
    "    this.students.forEach(student => { student.setRole(\"Student\"); this.classroom.push(student); });\n",
    "    /\n",
    "    this.json = [];\n",
    "    this.classroom.forEach(person => this.json.push(person.toJSON()));\n",
    "}\n",
    "\n",
    "\n",
    "compsci = new Classroom(teacher, students);\n",
    "\n",
    "logItType(compsci.classroom);  \n",
    "logItType(compsci.classroom[0].name);  \n",
    "logItType(compsci.json[0]);  \n",
    "\n"
   ]
  },
  {
   "cell_type": "code",
   "execution_count": 42,
   "metadata": {},
   "outputs": [
    {
     "data": {
      "text/html": [
       "<div style='display:inline-block;background:green;border: 2px solid grey;box-shadow: 0.8em 0.4em 0.4em grey;'><table><tr><th><mark>Player</mark></th><th><mark>Team</mark></th><th><mark>Region</mark></th></tr><tr><td>undefined</td><td>undefined</td><td>undefined</td><tr><tr><td>Messi</td><td>PSG</td><td>europe</td><tr><tr><td>Ronaldo</td><td>ManU</td><td>europe</td><tr><tr><td>vela</td><td>LAFC</td><td>USA</td><tr><tr><td>mount</td><td>CHELSEA FC</td><td>europe</td><tr></table></div>"
      ]
     },
     "execution_count": 42,
     "metadata": {},
     "output_type": "execute_result"
    }
   ],
   "source": [
    "// define an HTML conversion \"method\" associated with Classroom\n",
    "Classroom.prototype._toHtml = function() {\n",
    "  // HTML Style is build using inline structure\n",
    "  var style = (\n",
    "    \"display:inline-block;\" +\n",
    "    \"background:green;\" +\n",
    "    \"border: 2px solid grey;\" +\n",
    "    \"box-shadow: 0.8em 0.4em 0.4em grey;\"\n",
    "  );\n",
    "\n",
    "  // HTML Body of Table is build as a series of concatenations (+=)\n",
    "  var body = \"\";\n",
    "  // Heading for Array Columns\n",
    "  body += \"<tr>\";\n",
    "  body += \"<th><mark>\" + \"Player\" + \"</mark></th>\";\n",
    "  body += \"<th><mark>\" + \"Team\" + \"</mark></th>\";\n",
    "  body += \"<th><mark>\" + \"Region\" + \"</mark></th>\";\n",
    "  body += \"</tr>\";\n",
    "  // Data of Array, iterate through each row of compsci.classroom \n",
    "  for (var row of compsci.classroom) {\n",
    "    // tr for each row, a new line\n",
    "    body += \"<tr>\";\n",
    "    // td for each column of data\n",
    "    body += \"<td>\" + row.player + \"</td>\";\n",
    "    body += \"<td>\" + row.team + \"</td>\";\n",
    "    body += \"<td>\" + row.region + \"</td>\";\n",
    "    // tr to end line\n",
    "    body += \"<tr>\";\n",
    "  }\n",
    "\n",
    "   // Build and HTML fragment of div, table, table body\n",
    "  return (\n",
    "    \"<div style='\" + style + \"'>\" +\n",
    "      \"<table>\" +\n",
    "        body +\n",
    "      \"</table>\" +\n",
    "    \"</div>\"\n",
    "  );\n",
    "\n",
    "};\n",
    "\n",
    "// IJavaScript HTML processor receive parameter of defined HTML fragment\n",
    "$$.html(compsci._toHtml());// trial "
   ]
  }
 ],
 "metadata": {
  "kernelspec": {
   "display_name": "JavaScript (Node.js)",
   "language": "javascript",
   "name": "javascript"
  },
  "language_info": {
   "file_extension": ".js",
   "mimetype": "application/javascript",
   "name": "javascript",
   "version": "10.13.0"
  },
  "orig_nbformat": 4
 },
 "nbformat": 4,
 "nbformat_minor": 2
}
