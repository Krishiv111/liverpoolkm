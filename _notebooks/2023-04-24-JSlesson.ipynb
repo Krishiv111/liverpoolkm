{
 "cells": [
  {
   "cell_type": "markdown",
   "metadata": {},
   "source": [
    "# Basic JavaScript Knowledge"
   ]
  },
  {
   "cell_type": "markdown",
   "metadata": {},
   "source": [
    "### Variables \n",
    "        - declare JavaScript variables with var, let or const. \n",
    "        - If the value of the variable can change, like a total, use let. If the value is set, like prices, use const. Variables can hold any data type. "
   ]
  },
  {
   "cell_type": "code",
   "execution_count": null,
   "metadata": {
    "vscode": {
     "languageId": "javascript"
    }
   },
   "outputs": [
    {
     "data": {
      "text/plain": [
       "11"
      ]
     },
     "execution_count": 4,
     "metadata": {},
     "output_type": "execute_result"
    }
   ],
   "source": [
    "var x = 5;\n",
    "var y = 6;\n",
    "var z = x + y;\n",
    "\n",
    "z"
   ]
  },
  {
   "attachments": {},
   "cell_type": "markdown",
   "metadata": {},
   "source": [
    "### Data types- there are 8 JS data types. \n",
    "- List a few data types that you already know\n",
    "> String\n",
    "> Integer\n",
    "> Booleans"
   ]
  },
  {
   "cell_type": "markdown",
   "metadata": {},
   "source": [
    "#### 1. String: a series of characters, written with single or double quotes\n"
   ]
  },
  {
   "cell_type": "code",
   "execution_count": null,
   "metadata": {
    "vscode": {
     "languageId": "javascript"
    }
   },
   "outputs": [
    {
     "data": {
      "text/plain": [
       "'Mort'"
      ]
     },
     "execution_count": 43,
     "metadata": {},
     "output_type": "execute_result"
    }
   ],
   "source": [
    "let text = \"Mort\";\n",
    "text"
   ]
  },
  {
   "cell_type": "code",
   "execution_count": null,
   "metadata": {
    "vscode": {
     "languageId": "javascript"
    }
   },
   "outputs": [
    {
     "data": {
      "text/plain": [
       "'Yeung'"
      ]
     },
     "execution_count": 44,
     "metadata": {},
     "output_type": "execute_result"
    }
   ],
   "source": [
    "let text2 = 'Yeung';\n",
    "text2"
   ]
  },
  {
   "cell_type": "markdown",
   "metadata": {},
   "source": [
    "#### 2. Number: can be integers or decimals. \n",
    "        - You can also have exponential notation for large/small numbers "
   ]
  },
  {
   "cell_type": "markdown",
   "metadata": {},
   "source": [
    "#### 3. Bigint: used to store integer values that are too big to be represented by a normal JS number\n",
    "        - JavaScript integers are only accurate up to 15 digits\n",
    "\n",
    "\n"
   ]
  },
  {
   "cell_type": "code",
   "execution_count": null,
   "metadata": {
    "vscode": {
     "languageId": "javascript"
    }
   },
   "outputs": [
    {
     "data": {
      "text/plain": [
       "'bigint'"
      ]
     },
     "execution_count": 39,
     "metadata": {},
     "output_type": "execute_result"
    }
   ],
   "source": [
    "let number = 1234567890123456789012345n;\n",
    "let Largenum = BigInt(1234567890123456789012345)\n",
    "\n",
    "let typeLargenum = typeof Largenum;\n",
    "typeLargenum\n"
   ]
  },
  {
   "cell_type": "code",
   "execution_count": null,
   "metadata": {
    "vscode": {
     "languageId": "javascript"
    }
   },
   "outputs": [
    {
     "data": {
      "text/plain": [
       "1234567890123456824475648n"
      ]
     },
     "execution_count": 40,
     "metadata": {},
     "output_type": "execute_result"
    }
   ],
   "source": [
    "Largenum"
   ]
  },
  {
   "cell_type": "markdown",
   "metadata": {},
   "source": [
    "#### 4. Boolean: true or false, used in conditional testing\n"
   ]
  },
  {
   "cell_type": "code",
   "execution_count": null,
   "metadata": {
    "vscode": {
     "languageId": "javascript"
    }
   },
   "outputs": [
    {
     "data": {
      "text/plain": [
       "false"
      ]
     },
     "execution_count": 42,
     "metadata": {},
     "output_type": "execute_result"
    }
   ],
   "source": [
    "Boolean(10 > 9)\n"
   ]
  },
  {
   "cell_type": "markdown",
   "metadata": {},
   "source": [
    "Write a boolean statement that outputs true"
   ]
  },
  {
   "cell_type": "markdown",
   "metadata": {},
   "source": [
    "#### 5. Undefined: a variable without a value, has the value undefined/empty values\n"
   ]
  },
  {
   "cell_type": "code",
   "execution_count": null,
   "metadata": {
    "vscode": {
     "languageId": "javascript"
    }
   },
   "outputs": [],
   "source": [
    "let name;  \n",
    "name"
   ]
  },
  {
   "cell_type": "code",
   "execution_count": null,
   "metadata": {
    "vscode": {
     "languageId": "javascript"
    }
   },
   "outputs": [],
   "source": [
    "grade = undefined;"
   ]
  },
  {
   "cell_type": "markdown",
   "metadata": {},
   "source": [
    "#### 6. Null: represents the intentional absence of any object value\n",
    "        - variable is empty at the moment and may have a value later"
   ]
  },
  {
   "cell_type": "code",
   "execution_count": null,
   "metadata": {
    "vscode": {
     "languageId": "javascript"
    }
   },
   "outputs": [
    {
     "name": "stdout",
     "output_type": "stream",
     "text": [
      "false\n",
      "false\n"
     ]
    }
   ],
   "source": [
    "let result;\n",
    "\n",
    "result = Boolean(undefined);\n",
    "console.log(result); // false\n",
    "\n",
    "result = Boolean(null);\n",
    "console.log(result); // false"
   ]
  },
  {
   "cell_type": "markdown",
   "metadata": {},
   "source": [
    "#### 7. Symbol: used to represent unique values that can be used as identifiers/keys in objects. \n",
    "        - They are also used to create private properties and methods in classes.\n",
    "        - unique and immutable, so they can be used as unique identifiers in objects and classes.\n",
    "        - useful for creating constants that can be shared across different parts of your code.\n"
   ]
  },
  {
   "cell_type": "code",
   "execution_count": null,
   "metadata": {
    "vscode": {
     "languageId": "javascript"
    }
   },
   "outputs": [
    {
     "name": "stdout",
     "output_type": "stream",
     "text": [
      "Symbol()\n"
     ]
    }
   ],
   "source": [
    "// Create a Symbol\n",
    "const mySymbol = Symbol();\n",
    "\n",
    "console.log(mySymbol);\n",
    "// expected output: Symbol()\n"
   ]
  },
  {
   "cell_type": "code",
   "execution_count": null,
   "metadata": {
    "vscode": {
     "languageId": "javascript"
    }
   },
   "outputs": [
    {
     "name": "stdout",
     "output_type": "stream",
     "text": [
      "{ [Symbol()]: 'Hello World' }\n"
     ]
    }
   ],
   "source": [
    "const myObject = {\n",
    "    [mySymbol]: 'Hello World'\n",
    "  };\n",
    "  \n",
    "  console.log(myObject);\n",
    "\n",
    "  "
   ]
  },
  {
   "cell_type": "markdown",
   "metadata": {},
   "source": [
    "Edit/add to the code above so that it outputs \"Hello World\""
   ]
  },
  {
   "cell_type": "code",
   "execution_count": null,
   "metadata": {
    "vscode": {
     "languageId": "javascript"
    }
   },
   "outputs": [],
   "source": [
    "const myObjects = {\n",
    "    [mySymbol]: 'Hello World'\n",
    "  };\n",
    "  \n",
    "  console.log(myObjects[mySymbol]);"
   ]
  },
  {
   "cell_type": "markdown",
   "metadata": {},
   "source": [
    "#### 8. Object: an unordered collection of key-value pairs. Each key-value pair is called a property. \n",
    "        - object: written with curly braces {}, name:value pairs\n",
    "        - array: written with square brackets, separated by commas "
   ]
  },
  {
   "attachments": {},
   "cell_type": "markdown",
   "metadata": {},
   "source": [
    "Object\n",
    "- Identify the name/keys in the object below:  name, breed, age, color\n",
    "- Identify the values in the object below: Elly, Rottweiler, 4, black"
   ]
  },
  {
   "cell_type": "code",
   "execution_count": null,
   "metadata": {
    "vscode": {
     "languageId": "javascript"
    }
   },
   "outputs": [
    {
     "data": {
      "text/plain": [
       "{ name: 'Elly', breed: 'Rottweiler', age: 4, color: 'black' }"
      ]
     },
     "execution_count": 24,
     "metadata": {},
     "output_type": "execute_result"
    }
   ],
   "source": [
    "const dogs = {name: \"Elly\", breed:\"Rottweiler\", age:4, color:\"black\"}\n",
    "dogs"
   ]
  },
  {
   "cell_type": "markdown",
   "metadata": {},
   "source": [
    "Array"
   ]
  },
  {
   "cell_type": "code",
   "execution_count": null,
   "metadata": {
    "vscode": {
     "languageId": "javascript"
    }
   },
   "outputs": [
    {
     "data": {
      "text/plain": [
       "[ 'Love Story', 'Blank Space', 'I Knew You Were Trouble' ]"
      ]
     },
     "execution_count": 27,
     "metadata": {},
     "output_type": "execute_result"
    }
   ],
   "source": [
    "const songs = [\"Love Story\", \"Blank Space\", \"I Knew You Were Trouble\"];\n",
    "songs"
   ]
  },
  {
   "cell_type": "markdown",
   "metadata": {},
   "source": [
    "### Const\n",
    "        - We use const to declare variables whose value can be initialized only at the time of declaration.  \n",
    "        - Const means that the identifier cannot be reassigned. "
   ]
  },
  {
   "cell_type": "code",
   "execution_count": null,
   "metadata": {
    "vscode": {
     "languageId": "javascript"
    }
   },
   "outputs": [
    {
     "data": {
      "text/plain": [
       "13"
      ]
     },
     "execution_count": 26,
     "metadata": {},
     "output_type": "execute_result"
    }
   ],
   "source": [
    "const cost1 = 2;\n",
    "const cost2 = 11;\n",
    "let totalCost = cost1 + cost2;\n",
    "\n",
    "totalCost"
   ]
  },
  {
   "cell_type": "markdown",
   "metadata": {},
   "source": [
    "### Conditionals: control behavior, decides whether or not pieces of code can run.\n",
    "    - If: if a condition is true it is used to specify execution for a block of code.\n",
    "    - Else: if the same condition is false it specifies the execution for a block of code.\n",
    "    - Else If: new test if the first condition is false."
   ]
  },
  {
   "cell_type": "code",
   "execution_count": null,
   "metadata": {
    "vscode": {
     "languageId": "javascript"
    }
   },
   "outputs": [
    {
     "data": {
      "text/plain": [
       "'True'"
      ]
     },
     "execution_count": 54,
     "metadata": {},
     "output_type": "execute_result"
    }
   ],
   "source": [
    "if (10 > 5) {\n",
    "    var outcome = \"True\";\n",
    "}\n",
    "\n",
    "outcome;"
   ]
  },
  {
   "cell_type": "code",
   "execution_count": null,
   "metadata": {
    "vscode": {
     "languageId": "javascript"
    }
   },
   "outputs": [
    {
     "data": {
      "text/plain": [
       "'else block'"
      ]
     },
     "execution_count": 55,
     "metadata": {},
     "output_type": "execute_result"
    }
   ],
   "source": [
    "if (\"red\" === \"blue\") {\n",
    "    var outcome = \"if block\";\n",
    "} else {\n",
    "    var outcome = \"else block\";\n",
    "}\n",
    "outcome;"
   ]
  },
  {
   "cell_type": "code",
   "execution_count": null,
   "metadata": {
    "vscode": {
     "languageId": "javascript"
    }
   },
   "outputs": [
    {
     "data": {
      "text/plain": [
       "'Chilly'"
      ]
     },
     "execution_count": 62,
     "metadata": {},
     "output_type": "execute_result"
    }
   ],
   "source": [
    "let temperature = 54\n",
    "if (temperature < 70) {\n",
    "    cast = \"Chilly\";\n",
    "  } else if (temperature < 60) {\n",
    "    cast = \"Cold\";\n",
    "  } else {\n",
    "    cast = \"Warm\";\n",
    "  }\n",
    "\n",
    "cast"
   ]
  },
  {
   "attachments": {},
   "cell_type": "markdown",
   "metadata": {},
   "source": [
    "Create a conditional statement about how you would greet someone based on the time of day. \n",
    "let timeOfDay = \"evening\";\n",
    "\n",
    "if (timeOfDay == \"morning\") {\n",
    "    greeting = \"Good Morning\";\n",
    "  } else if (timeOfDay == \"afternoon\") {\n",
    "    greeting = \"Good Afternoon\";\n",
    "  } else if (timeOfDay == \"evening\") {\n",
    "    greeting = \"Good Evening\";\n",
    "  }\n",
    "\n",
    "greeting"
   ]
  },
  {
   "cell_type": "markdown",
   "metadata": {},
   "source": [
    "### Functions: \n",
    "    - defining: define with function + functionName(parameter) { function code }.  It can be unnamed/anonymous can be defined based on a condition.\n",
    "    - calling: simply put the function name with a parameter and semicolon, or a function can call itself (recursive)"
   ]
  },
  {
   "cell_type": "markdown",
   "metadata": {},
   "source": [
    "### Iteration: \n",
    "        - for loop: repeats until a specified condition evaluates to false\n",
    "        - do...while: repeats until a specified condition evaluates to false\n",
    "        - while statement: executes its statements as long as a specified condition evaluates to true\n",
    "        - label: provides a statement with an identifier that lets you refer to it later in the code. ex. you can use a label to identify a loop, and then use the break or continue statements to    indicate whether a program should interrupt the loop or continue its execution\n",
    "        - break: used to terminate a loop, switch, or in conjunction with a labeled statement\n",
    "        - continue: can be used to restart a while, do-while, for, or label statement\n",
    "        - for...in: iterates a specified variable over all the enumerable properties of an object\n",
    "        - for...of statement creates a loop Iterating over iterable objects, invoking a custom iteration hook with statements to be executed for the value of each distinct property\n",
    "\n"
   ]
  },
  {
   "attachments": {},
   "cell_type": "markdown",
   "metadata": {},
   "source": [
    "# JavaScript in HTML- Questions\n",
    "1. Where do you store the JavaScript Code? You store it within a script tag in html allowing to acsess to javascript code.\n",
    "2. How do you import a JS file into HTML? Imports are with an src as seen imbeded in a script tag for ex  script src=\"path/to/my-script.js\"> script\n",
    "3. What is onClick? Onclick is a function that gives a response such as an answer a color change when a button is clicked.\n",
    "4. What tag do you use to write JavaScript code? You use the script tag for javascript code."
   ]
  },
  {
   "attachments": {},
   "cell_type": "markdown",
   "metadata": {},
   "source": [
    "# Notes \n",
    "- javascript allows many people to store functions \n",
    "- you can write with the use of script taks \n",
    "- it processes iterantion adn coditional statements\n",
    "- the use of constant are variables that cant be changes \n",
    "- variables are defined through the let command \n",
    "- you can also create properiteis and define classes"
   ]
  },
  {
   "cell_type": "code",
   "execution_count": null,
   "metadata": {
    "vscode": {
     "languageId": "html"
    }
   },
   "outputs": [],
   "source": [
    "\n",
    "<!DOCTYPE html>\n",
    "<html>\n",
    "  <head>\n",
    "    <title>Quiz</title>\n",
    "  </head>\n",
    "  <body>\n",
    "    <h1>Quiz</h1>\n",
    "    <h2>Question 1:</h2>\n",
    "    <p>What is the first letter in the alphabet</p>\n",
    "    <input type=\"text\" id=\"answer1\">\n",
    "    <br><br>\n",
    "    <h2>Question 2:</h2>\n",
    "    <p>what it messi first name</p>\n",
    "    <input type=\"text\" id=\"answer2\">\n",
    "    <br><br>\n",
    "    <button onclick=\"checkAnswers()\">Submit</button>\n",
    "    <script>\n",
    "      function checkAnswers() {\n",
    "        const answer1 = document.getElementById(\"answer1\").value;\n",
    "        const answer2 = document.getElementById(\"answer2\").value;\n",
    "        let score = 0;\n",
    "\n",
    "        if (answer1.toLowerCase() === \"a\") {\n",
    "          score++;\n",
    "        }\n",
    "\n",
    "        if (answer2.toLowerCase() === \"lionel\") {\n",
    "          score++;\n",
    "        }\n",
    "\n",
    "        alert(`You scored ${score} out of 2.`);\n",
    "      }\n",
    "    </script>\n",
    "  </body>\n",
    "</html>\n"
   ]
  },
  {
   "cell_type": "markdown",
   "metadata": {},
   "source": [
    "# Hacks\n",
    "1. Add notes in this notebook\n",
    "2. Complete the code portions, questions, and prompts throughout the notebook\n",
    "3. Extra Credit: code a small JavaScript game "
   ]
  }
 ],
 "metadata": {
  "kernelspec": {
   "display_name": "base",
   "language": "python",
   "name": "python3"
  },
  "language_info": {
   "codemirror_mode": {
    "name": "ipython",
    "version": 3
   },
   "file_extension": ".py",
   "mimetype": "text/x-python",
   "name": "python",
   "nbconvert_exporter": "python",
   "pygments_lexer": "ipython3",
   "version": "3.9.12"
  },
  "orig_nbformat": 4
 },
 "nbformat": 4,
 "nbformat_minor": 2
}
