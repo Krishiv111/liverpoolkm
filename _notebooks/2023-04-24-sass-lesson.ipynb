{
 "cells": [
  {
   "attachments": {},
   "cell_type": "markdown",
   "metadata": {},
   "source": [
    "# SASS"
   ]
  },
  {
   "attachments": {},
   "cell_type": "markdown",
   "metadata": {},
   "source": [
    "# Why SASS?\n",
    "\n",
    "SASS is an improvement on CSS in that there are methods of abstraction. It is a stylesheet language that is compiled into CSS, which means that Sass will translate the Sass code you wrote into CSS, which is what your web browser can read\n",
    "\n",
    "# SASS vs SCSS\n",
    "As you learn about Sass, you might notice something called Scss. They are basically the same thing except that Scss uses curly braces and semicolons to distinguish between lines. Sass uses indentation and newlines instead.\n",
    "\n",
    "We will be teaching the Scss syntax because it is more commonly used."
   ]
  },
  {
   "attachments": {},
   "cell_type": "markdown",
   "metadata": {},
   "source": [
    "# Getting started\n",
    "\n",
    "A easy way to write SASS and have it preprocessed into CSS is by using a Jekyll powered website, such as GitHub pages or Fastpages.\n",
    "\n",
    "The first step is to clone a GitHub pages repo, such as this [one](https://github.com/lwu1822/sassy_squad).\n",
    "\n",
    "Within the repository, head over to `assets/css/`, and open `style.scss`.\n",
    "\n",
    "This is where you can create your SASS code.\n",
    "\n",
    "To see your CSS-translated SASS code, head over to `_site/assets/css/style.css`\n",
    "\n",
    "Note: You will need to run bundle exec jekyll serve before the _site directory appears.\n",
    "\n",
    "The first few hundred lines are used to style Github's theme. Make sure to scroll to the very bottom to see the SASS code that you wrote, which is in the form of CSS."
   ]
  },
  {
   "attachments": {},
   "cell_type": "markdown",
   "metadata": {},
   "source": [
    "# Nesting\n",
    "\n",
    "- SASS provides a feature called nesting in which you can write styling code in a way that looks like an HTML hierarchy.\n",
    "- It allows you to write with many diffrent sectors "
   ]
  },
  {
   "attachments": {},
   "cell_type": "markdown",
   "metadata": {},
   "source": [
    "# Mini-hack\n",
    "\n",
    "Write out the SASS equivalent for the following CSS code:\n",
    "\n",
    "```\n",
    ".a .b {\n",
    "    color: green;\n",
    "}\n",
    "\n",
    ".a .c {\n",
    "    color: blue;\n",
    "}\n",
    "```\n",
    "# Sass equivalent \n",
    "- .a {\n",
    " -  .b {\n",
    "  -   color: green;\n",
    "  - }\n",
    "  \n",
    "  - .c {\n",
    " -    color: blue;\n",
    " -  }\n",
    "- }\n"
   ]
  },
  {
   "attachments": {},
   "cell_type": "markdown",
   "metadata": {},
   "source": [
    "# Extend/Inheritance\n",
    "\n",
    "What are some similarities that the buttons share? What are the differences?\n",
    "\n",
    "- They have the same shape and size but the color is diffrent and the text on the boxes are diffrent \n",
    "- The backgounds differ\n",
    "- THey use the same properties"
   ]
  },
  {
   "attachments": {},
   "cell_type": "markdown",
   "metadata": {},
   "source": [
    "# Mixin\n",
    "\n",
    "- Mixin allows to take in parameters and give it back\n",
    "- IT is like a procedure but with saas and it is a type of property which give it better usage within industry\n",
    "- you can do a lot wiht mixin"
   ]
  },
  {
   "attachments": {},
   "cell_type": "markdown",
   "metadata": {},
   "source": [
    "# Mini-hack\n",
    "\n",
    "Write out a mixin in SASS that takes in a color and a font size as the parameter. Within the mixin, set the background color and font color to the color parameter, and set the font size to the font size parameter. Then create a selector that calls the mixin, and pass in a color and font size of your choice as the arguments."
   ]
  },
  {
   "cell_type": "code",
   "execution_count": null,
   "metadata": {
    "vscode": {
     "languageId": "plaintext"
    }
   },
   "outputs": [],
   "source": [
    "@mixin custom-style($color, $font-size) {\n",
    "  background-color: $color;\n",
    "  color: $color;\n",
    "  font-size: $font-size;\n",
    "}\n",
    "\n",
    ".custom-selector {\n",
    "  @include custom-style(#91ff00, 18px);\n",
    "}\n"
   ]
  },
  {
   "attachments": {},
   "cell_type": "markdown",
   "metadata": {},
   "source": [
    "# Function\n",
    "\n",
    "- Function are avalble within saas\n",
    "- They can call with paranthesis and are like parameters in python"
   ]
  },
  {
   "attachments": {},
   "cell_type": "markdown",
   "metadata": {},
   "source": [
    "# Import\n",
    "\n",
    "- Imports are to prevent clutter through files \n",
    "- You can make many files like style.css and store them in one places"
   ]
  },
  {
   "attachments": {},
   "cell_type": "markdown",
   "metadata": {},
   "source": [
    "# Quiz Answers\n",
    "\n",
    "B\n",
    "A\n",
    "C\n",
    "B\n",
    "D\n",
    "B\n",
    "B"
   ]
  },
  {
   "attachments": {},
   "cell_type": "raw",
   "metadata": {},
   "source": [
    "// Using Mixin To create buttons that are blue and gray \n",
    "\n",
    "@mixin button($color, $bg-color, $border-radius) {\n",
    "  display: inline-block;\n",
    "  padding: 10px 20px;\n",
    "  background-color: $bg-color;\n",
    "  color: $color;\n",
    "  border-radius: $border-radius;\n",
    "  text-decoration: none;\n",
    "}\n",
    "\n",
    ".button-primary {\n",
    "  @include button(#fff, #007bff, 5px);\n",
    "}\n",
    "\n",
    ".button-secondary {\n",
    "  @include button(#fff, #6c757d, 5px);\n",
    "}\n"
   ]
  },
  {
   "attachments": {},
   "cell_type": "markdown",
   "metadata": {},
   "source": [
    "# More Features EXTRA CREDIT\n",
    "- Within saas there is another features such as control directives; this allows for usage of if else and for which are conditionals likewise used in python \n",
    "- Color functions  are another saas feature which alow oyu to lighten() darken() and saturate() backgrounds and buttons within SAAS these are more properties that are usen through saas"
   ]
  },
  {
   "attachments": {},
   "cell_type": "markdown",
   "metadata": {},
   "source": [
    "# SASS Hacks\n",
    "\n",
    "1. Take notes and complete the mini-hacks. (0.9)\n",
    "\n",
    "2. Complete the [quiz questions](https://lwu1822.github.io/sassy_squad/quizQuestions) and provide your answers in this notebook. (0.9)\n",
    "\n",
    "3. Use SASS to create something that uses either extend or mixin. (0.9)\n",
    "\n",
    "4. Extra credit: Research other SASS features and blog about what you learned or add to your SASS project with any extra features not covered in this lesson. More points will be given if both are done."
   ]
  }
 ],
 "metadata": {
  "language_info": {
   "name": "python"
  },
  "orig_nbformat": 4
 },
 "nbformat": 4,
 "nbformat_minor": 2
}
