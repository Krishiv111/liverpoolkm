{
 "cells": [
  {
   "cell_type": "markdown",
   "metadata": {},
   "source": [
    "# My Quiz Using Lists "
   ]
  },
  {
   "cell_type": "markdown",
   "metadata": {},
   "source": [
    "## Quiz Details\n",
    "\n",
    "- To create this quiz I used the basics like if else from my other quiz\n",
    "- Also I added a key and a loop as you can see using the for statement"
   ]
  },
  {
   "cell_type": "code",
   "execution_count": 7,
   "metadata": {},
   "outputs": [
    {
     "name": "stdout",
     "output_type": "stream",
     "text": [
      "Hello welcome to my quiz you will be asked 3 questions?\n",
      "Question: How many quaters are in a dollar?\n",
      "Answer: \n",
      "Question: How many quaters are in a dollar?\n",
      "Answer: 4\n",
      "good job that is correct!\n",
      "Question: 4\n",
      "Answer: \n",
      "Question: 4\n",
      "Answer: \n",
      "good job that is correct!\n",
      "Question: What is the first letter in the alphabet?\n",
      "Answer: a\n",
      "Question: What is the first letter in the alphabet?\n",
      "Answer: a\n",
      "good job that is correct!\n",
      "Question: 128\n",
      "Answer: \n",
      "Question: 128\n",
      "Answer: \n",
      "good job that is correct!\n",
      "Question: How many ounces are in a gallon?\n",
      "Answer: \n",
      "Question: How many ounces are in a gallon?\n",
      "Answer: \n",
      "good job that is correct!\n",
      "Question: A\n",
      "Answer: \n",
      "Question: A\n",
      "Answer: \n",
      "good job that is correct!\n",
      "At this time you have finished the quiz thank you for your time!\n"
     ]
    }
   ],
   "source": [
    "def question_and_answer(prompt):\n",
    "    print(\"Question: \" + prompt)\n",
    "    msg = input()\n",
    "    print(\"Answer: \" + msg)\n",
    "\n",
    "quiz = { \"How many ounces are in a gallon?\", \"128\",\n",
    "         \"How many quaters are in a dollar?\", \"4\",\n",
    "         \"What is the first letter in the alphabet?\",\"A\",\n",
    "        }\n",
    "\n",
    "print(\"Hello welcome to my quiz you will be asked 3 questions?\")\n",
    "    \n",
    "for key in quiz:\n",
    "    rsp = question_and_answer(key)\n",
    "    if rsp == question_and_answer(key):\n",
    "        print(\"good job that is correct!\")\n",
    "      \n",
    "    else: \n",
    "        print(\"sorry that not correct!\")\n",
    "\n",
    "print(\"At this time you have finished the quiz thank you for your time!\")\n"
   ]
  }
 ],
 "metadata": {
  "kernelspec": {
   "display_name": "Python 3.10.6 64-bit",
   "language": "python",
   "name": "python3"
  },
  "language_info": {
   "codemirror_mode": {
    "name": "ipython",
    "version": 3
   },
   "file_extension": ".py",
   "mimetype": "text/x-python",
   "name": "python",
   "nbconvert_exporter": "python",
   "pygments_lexer": "ipython3",
   "version": "3.10.6"
  },
  "orig_nbformat": 4,
  "vscode": {
   "interpreter": {
    "hash": "b0fa6594d8f4cbf19f97940f81e996739fb7646882a419484c72d19e05852a7e"
   }
  }
 },
 "nbformat": 4,
 "nbformat_minor": 2
}
