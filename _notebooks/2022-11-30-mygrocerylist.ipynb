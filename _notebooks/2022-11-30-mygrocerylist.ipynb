{
 "cells": [
  {
   "cell_type": "markdown",
   "metadata": {},
   "source": [
    "# My Coding Knowledge Used In Real World Scenarios\n"
   ]
  },
  {
   "cell_type": "markdown",
   "metadata": {},
   "source": [
    "### Prompt: My grandma needs help making a list she asked me if I could use my coding knowledge to help her "
   ]
  },
  {
   "cell_type": "code",
   "execution_count": 22,
   "metadata": {},
   "outputs": [
    {
     "data": {
      "text/plain": [
       "6"
      ]
     },
     "execution_count": 22,
     "metadata": {},
     "output_type": "execute_result"
    }
   ],
   "source": [
    " My_Groceries = [\"onions\",\"cabbage\",\"nutuella\",\"bread\",\"eggs\"] # her first list\n",
    "\n",
    " My_Groceries.append({\n",
    "    \"brownies\"\n",
    "   \n",
    "  \n",
    "}) # she asked me to add brownies\n",
    "\n",
    "Price = [\"5.99\",\"1.00\",\"3.45\",\"4.45\",\"2.99\",\"5.32,\"] # she told me to make a list with prices\n",
    "\n",
    "len(My_Groceries) # she asked me if I could tell her how long her lists of groceries are.\n",
    "\n",
    "\n",
    "\n",
    "\n",
    "\n",
    "\n"
   ]
  },
  {
   "cell_type": "code",
   "execution_count": 23,
   "metadata": {},
   "outputs": [
    {
     "data": {
      "text/plain": [
       "'eggs'"
      ]
     },
     "execution_count": 23,
     "metadata": {},
     "output_type": "execute_result"
    }
   ],
   "source": [
    "My_Groceries[4] # She asked me to show her fourth item in her list,"
   ]
  }
 ],
 "metadata": {
  "kernelspec": {
   "display_name": "Python 3.10.6 64-bit",
   "language": "python",
   "name": "python3"
  },
  "language_info": {
   "codemirror_mode": {
    "name": "ipython",
    "version": 3
   },
   "file_extension": ".py",
   "mimetype": "text/x-python",
   "name": "python",
   "nbconvert_exporter": "python",
   "pygments_lexer": "ipython3",
   "version": "3.10.6"
  },
  "orig_nbformat": 4,
  "vscode": {
   "interpreter": {
    "hash": "b0fa6594d8f4cbf19f97940f81e996739fb7646882a419484c72d19e05852a7e"
   }
  }
 },
 "nbformat": 4,
 "nbformat_minor": 2
}
