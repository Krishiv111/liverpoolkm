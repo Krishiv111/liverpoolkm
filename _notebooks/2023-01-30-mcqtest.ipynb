{
 "cells": [
  {
   "attachments": {},
   "cell_type": "markdown",
   "metadata": {},
   "source": [
    "# MCQ Test Reflection\n",
    "- title: MCQ REFLECTION\n",
    "- toc: true\n",
    "- categories: [collegeboard]"
   ]
  },
  {
   "cell_type": "markdown",
   "metadata": {},
   "source": [
    "![](yes.png)"
   ]
  },
  {
   "attachments": {},
   "cell_type": "markdown",
   "metadata": {},
   "source": [
    "![](q1.png)\n",
    "- My calls are correct but its or becuase it goes to the floor that wasnt being used meaning it cant be called to both of them leaving this response as incorrect. "
   ]
  },
  {
   "attachments": {},
   "cell_type": "markdown",
   "metadata": {},
   "source": [
    "![](q2.png)\n",
    "- My mistake is that I chose and becuase I thought that the boolean could be other however is they are both true it would be impossible, leaving or to be correct "
   ]
  },
  {
   "attachments": {},
   "cell_type": "markdown",
   "metadata": {},
   "source": [
    "![](q3.png)\n",
    "- I didnt relize that it said chose two options however d is also correct as it make val 2 result in false\n"
   ]
  },
  {
   "attachments": {},
   "cell_type": "markdown",
   "metadata": {},
   "source": [
    "![](q4.png)\n",
    "- This was inncorrect as the as the procedure wasnt equally sorted leaving this to be incorrect "
   ]
  },
  {
   "attachments": {},
   "cell_type": "markdown",
   "metadata": {},
   "source": [
    "![](q6.png)\n",
    "- I also didnt see that it wanted me to chose two answers of code segments however d is also correct as it goes throught a segment giving back the circles as it was depicted above"
   ]
  },
  {
   "attachments": {},
   "cell_type": "markdown",
   "metadata": {},
   "source": [
    "![](q7.png)\n",
    "- This answer is incorrect as the if statement will be true making the number incorrect which is why It should have been option a as it already dispays the correct asnwer "
   ]
  },
  {
   "attachments": {},
   "cell_type": "markdown",
   "metadata": {},
   "source": [
    "![](q8.png)\n",
    "- My answer was wrong due to the fact that as this input will make the loop be incorrect as the numbers wouldn't line up "
   ]
  },
  {
   "attachments": {},
   "cell_type": "markdown",
   "metadata": {},
   "source": [
    "![](q9.png)\n",
    "- I chose the option that would make the code segment evaluate to the wrong sum of 20% which wouldnt make sense in this context "
   ]
  },
  {
   "attachments": {},
   "cell_type": "markdown",
   "metadata": {},
   "source": [
    "![](q10.png)\n",
    "- My answer is wrong beucase  I didnt understand what it meant by hexidecimal, however V is correct as it has a base of 16 going to a hexidecimal of 56"
   ]
  },
  {
   "attachments": {},
   "cell_type": "markdown",
   "metadata": {},
   "source": [
    "![](q11.png)\n",
    "- My response was incorrect as it moved completed the count without moving the position ahead leaving it to miscout position and lose track making it inncorrect "
   ]
  }
 ],
 "metadata": {
  "kernelspec": {
   "display_name": "Python 3",
   "language": "python",
   "name": "python3"
  },
  "language_info": {
   "name": "python",
   "version": "3.10.9 (main, Dec 15 2022, 18:33:08) [Clang 13.0.0 (clang-1300.0.29.30)]"
  },
  "orig_nbformat": 4,
  "vscode": {
   "interpreter": {
    "hash": "b0fa6594d8f4cbf19f97940f81e996739fb7646882a419484c72d19e05852a7e"
   }
  }
 },
 "nbformat": 4,
 "nbformat_minor": 2
}
