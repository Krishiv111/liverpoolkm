{
 "cells": [
  {
   "attachments": {},
   "cell_type": "markdown",
   "metadata": {},
   "source": [
    "---\n",
    "toc: true\n",
    "layout: base\n",
    "categories: [markdown]\n",
    "title: NATM Tri 3\n",
    "---\n",
    "\n",
    "# N@TM Experience \n",
    "- This years natm the was reallly fun I enjoyed the attention to detail on the art project, and the band playing in the PAC, also I enjoyed seeing all the unique project completed by the animation class and the great coding done by fellow APCSP classmates. Overall I had a lot of fun and got a lot of interaction with other projects. \n",
    "\n",
    "# Reflection over the Year\n",
    "- This N@tm went the best over the past 3 tri due to the fact this trimester my team was on the same page due to the consistent communication of each other, also we were able to finish all aspects of our project on time. In addition this trimester we had less challenges facing the backend and frontend linking as we had all gained good aws experience over the year. \n",
    "\n",
    "# Our Project and Further improvements \n",
    "- This tri our project was using pandas and numpy in order to analyze data, we were able to accomplish this by using plot.ly in order to print out our data and we stored the data for all the player in our backend api. Something we could improve on is the soritng of the graphs by implementing more sorting algoirthms and updating each graph based on user click to the top. \n",
    "\n",
    "# Favorite Project\n",
    "- My favorite project was the project of the ceramics mushroom from mario as it was a cool creation with the idea of teh nose and the hat and this relates to CSP becuase of the animation sprite lab that we used doing animation with mario.\n",
    "\n",
    "# NATM PROJCETS \n",
    "\n",
    "\n",
    "\n",
    "![](IMG_2505.JPG)\n",
    "![](IMG_2497.JPG)\n",
    "![](IMG_2513.JPG)\n",
    "![](IMG_2511.JPG)\n",
    "\n",
    "\n",
    "\n"
   ]
  }
 ],
 "metadata": {
  "language_info": {
   "name": "python"
  },
  "orig_nbformat": 4
 },
 "nbformat": 4,
 "nbformat_minor": 2
}
