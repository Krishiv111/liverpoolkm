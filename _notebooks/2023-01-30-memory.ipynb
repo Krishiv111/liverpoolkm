{
 "cells": [
  {
   "attachments": {},
   "cell_type": "markdown",
   "metadata": {},
   "source": [
    "# Project Memory\n",
    "- title: Feature For project\n",
    "- toc: true\n",
    "- categories: [collegeboard]"
   ]
  },
  {
   "attachments": {},
   "cell_type": "markdown",
   "metadata": {},
   "source": [
    "# What I am doing \n",
    "- For contributing to my project I am the scrum leader making my repsonsiblity to guide team members in the right directions and have leadership by establishing deadlines\n",
    "- In addition I will be coding a feature that fulfills collegeboard requirments."
   ]
  },
  {
   "attachments": {},
   "cell_type": "markdown",
   "metadata": {},
   "source": [
    " ![](feat.png)\n",
    " - This feature will be something that collects input from data for a house they are looking to rent and presents them with houses that are fitting their needs\n",
    " - It will use frontend design with buttons and images of houses\n",
    " - It will use backend by coding those buttons in order to present something with the parameters \n",
    " - In order to setup the backend I will need to group my houses with specific traits in a data base in order to get specific results."
   ]
  }
 ],
 "metadata": {
  "kernelspec": {
   "display_name": "Python 3",
   "language": "python",
   "name": "python3"
  },
  "language_info": {
   "name": "python",
   "version": "3.10.9 (main, Dec 15 2022, 18:33:08) [Clang 13.0.0 (clang-1300.0.29.30)]"
  },
  "orig_nbformat": 4,
  "vscode": {
   "interpreter": {
    "hash": "b0fa6594d8f4cbf19f97940f81e996739fb7646882a419484c72d19e05852a7e"
   }
  }
 },
 "nbformat": 4,
 "nbformat_minor": 2
}
