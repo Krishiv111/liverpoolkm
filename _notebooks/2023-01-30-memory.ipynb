{
 "cells": [
  {
   "attachments": {},
   "cell_type": "markdown",
   "metadata": {},
   "source": [
    "# Project Feature\n",
    "- title: Feature For project\n",
    "- toc: true\n",
    "- categories: [collegeboard]"
   ]
  },
  {
   "attachments": {},
   "cell_type": "markdown",
   "metadata": {},
   "source": [
    "# College Board Criteria \n",
    "- Row 1: It will function as an input and output becuase the user will input the parameters of the house they are looking for and htey will be pompted to different houses that come with their set parameters \n",
    "-  Row 2: Data will be stored through this features as it will use the users input to save a house as a favorite in order to book inputting data into the database\n",
    "- Row 3: I will use lists to and other data abstraction in order to make the code minimal as possible while managing complexity\n",
    "- Row 4:The parameters of bedroom,baths and price will be set as a result of calling these procedures leaving it to output these certain houses. \n",
    "-  Row 5:I can implement selection as the database will only choose certain amount of houses leaving it to fulfill criteria.\n",
    "-  Row 6: This will be tested due to the fact that it will have input and outputs making it user friendly."
   ]
  },
  {
   "attachments": {},
   "cell_type": "markdown",
   "metadata": {},
   "source": [
    " ![](feat.png)"
   ]
  },
  {
   "attachments": {},
   "cell_type": "markdown",
   "metadata": {},
   "source": [
    "# Code Plan\n",
    "- The code plan is to first setup the frontend by 2/3 getting all buttons and user input sections displayed to fast pages. Then I will create the databases of each of the houses. After I will code the buttons in order to fetch the from the db using fetch in javascript, database with python, and frontend with sass and html. This will take me about 2.5 weeks but it will need a lot of planning to make sure that there is there is time to correct error and get perfection. "
   ]
  },
  {
   "attachments": {},
   "cell_type": "markdown",
   "metadata": {},
   "source": [
    "# Video Plan\n",
    "- In the video I will create scenarios where a person wants to buy a house and I use my features in order to find the certain houses. I can show my use of parameters and procedures by adding a variety of houses and displaying them showing the inputs and outputs of the feature as well as showing the funtioning backend. "
   ]
  }
 ],
 "metadata": {
  "kernelspec": {
   "display_name": "Python 3",
   "language": "python",
   "name": "python3"
  },
  "language_info": {
   "name": "python",
   "version": "3.10.9"
  },
  "orig_nbformat": 4,
  "vscode": {
   "interpreter": {
    "hash": "b0fa6594d8f4cbf19f97940f81e996739fb7646882a419484c72d19e05852a7e"
   }
  }
 },
 "nbformat": 4,
 "nbformat_minor": 2
}
