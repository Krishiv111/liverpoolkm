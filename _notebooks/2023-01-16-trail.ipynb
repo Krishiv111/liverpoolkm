{
 "cells": [
  {
   "attachments": {},
   "cell_type": "markdown",
   "metadata": {},
   "source": [
    "- title: Krishiv's Second Grading Assignment\n",
    "- toc: true\n",
    "- categories: [collegeboard]"
   ]
  },
  {
   "cell_type": "markdown",
   "metadata": {},
   "source": [
    "## Submission 1 \n",
    "\n",
    "Section|Score|Explanation|College board Score|\n",
    "--| -- | -- |-- |\n",
    "1 |0|Video had shown inputs and outputs,however the purpose and function were mixed up which shows lack of understanding which is why its no good |College board didnt give the point as the puropse and function were not clear|\n",
    "2| 0 | Shows how he used animallist to store data but didnt use the code segment in the actual function| Collegeboard didnt give the point due to the fact the code had no meaning for data storage.| \n",
    "3 | 0 |the data and code that was atempted to be written was not able to be simplified without it being complex |No point for coimplexity as code segments were extra which is why the college board didnt offer a point.|\n",
    "4 |0| only one parameter set which didnt serve purpose for code which didnt meet requirements for |No pount was given due to the fact the criteria just wasnt met|\n",
    "5 |0 |had an algorithm but explanation didnt show what purpose it solved |No point given as the if statement didnt have a reason or explanation.|\n",
    "6 |1| The app was tested very well and it included all parts of testing for the app| College Board also gave this person a 1 as the testing works and the application is valid.|"
   ]
  },
  {
   "attachments": {},
   "cell_type": "markdown",
   "metadata": {},
   "source": [
    "## Submission 2\n",
    "Section|Score|Explanation|College board Score|\n",
    "--| -- | -- |-- |\n",
    "1 |1| Video had a clear input and output which is required also purpose is clear in the written explanation. As it is to serve as entertainment for the user|College board gave the point as all work was clear and consise and completely included|\n",
    "2| 1 | The response shows how data is store in order to itterate the poem| Collegeboard gave him a point because the code segments displayed were accurate and it stored correct data| \n",
    "3 | 1 | it shows how a status was stored many times which is why its a 1 College board give the point as the program shows itself  meeting compleity|\n",
    "4 |1 | current and replacement parameters were set making it meet the criteria | College board gave the point due to the fact the program was developed accurate and purposeful|\n",
    "5 |1 |Repeated loop with replace list meeting the criteria.|College board also gave him a one due to the fact his algorithm made sense.|\n",
    "6 |1| The poem was very good and all part were correct| College Board also gave this person a 1 as the testing works and the application is valid.|\n"
   ]
  },
  {
   "attachments": {},
   "cell_type": "markdown",
   "metadata": {},
   "source": [
    "## Submission 3\n",
    "Section|Score|Explanation|College board Score|\n",
    "--| -- | -- |-- |\n",
    "1 |0| Video had a clear input and output which is required however the in the written response the purpose is just \"to see who winse between heroes\" this does not show understanding and doesent meet criteria so its a 0|No point given as the written response was weak|\n",
    "2| 1 | Yes data was storned within a list and it was fit the criteria| Collegeboard gave him a point because the code segments displayed were accurate and it stored correct data| \n",
    "3 | 1 | it shows how a status was stored many times which is why its a 1 College board give the point as the program shows itself  meeting compleity|Yes a point was given as all criteria was met thorugout the use of lists and other elememts to keep program simple|\n",
    "4 |1 | current and replacement parameters were set making it meet the criteri, in adddition all parameters made the function pruposeful | College board gave the point due to the fact the program was developed accurate and purposeful|\n",
    "5 |1 |Loops like FINDWINTER were used in code segment showing the use of algorithms.|College board also gave him a one due to the fact his algorithm made sense.|\n",
    "6 |1| The app was tested very well and it included all parts of testing for the app the po| College Board also gave this person a 1 as the testing works and the application is valid.|\n"
   ]
  },
  {
   "attachments": {},
   "cell_type": "markdown",
   "metadata": {},
   "source": [
    "# Submision 4 \n",
    "\n",
    "Section|Score|Explanation|College board Score|\n",
    "--| -- | -- |-- |\n",
    "1 |1|Purpose and fucntion were defined correclty and inputs and outputs were shown|All criteria was met giving the student a point|\n",
    "2| 1 | uses named guess as a variable and a segment to store code| Collegeboard didnt give the point due to the fact the code had no meaning for data storage and all parts of the paramter wasnt used| \n",
    "3 | 0 |the data and code that was atempted to be written was not able to be simplified without it being complex |No point for coimplexity as code segments were extra which is why the college board didnt offer a point.|\n",
    "4 |0| only one parameter set which didnt serve purpose for code which didnt meet requirements for |No pount was given due to the fact the criteria just wasnt met|\n",
    "5 |1 |An algorithm of ISITCORRECT was used which displayed used of algorithms to simplify code | point given as the loop was showed purpose and a funtion |\n",
    "6 |1| The app was tested very well and it included all parts of testing for the app| College Board also gave this person a 1 as the testing works and the application is valid.|"
   ]
  }
 ],
 "metadata": {
  "kernelspec": {
   "display_name": "Python 3",
   "language": "python",
   "name": "python3"
  },
  "language_info": {
   "name": "python",
   "version": "3.10.9 (main, Dec 15 2022, 18:33:08) [Clang 13.0.0 (clang-1300.0.29.30)]"
  },
  "orig_nbformat": 4,
  "vscode": {
   "interpreter": {
    "hash": "b0fa6594d8f4cbf19f97940f81e996739fb7646882a419484c72d19e05852a7e"
   }
  }
 },
 "nbformat": 4,
 "nbformat_minor": 2
}
