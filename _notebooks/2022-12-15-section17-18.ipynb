{
 "cells": [
  {
   "attachments": {},
   "cell_type": "markdown",
   "metadata": {},
   "source": [
    "# Hacks Section 17-18\n",
    "\n",
    "- layout: default\n",
    "- badges: false\n",
    "- categories: [markdown]\n"
   ]
  },
  {
   "attachments": {},
   "cell_type": "markdown",
   "metadata": {},
   "source": [
    "# Notes \n",
    "- Decidable problems are algorithm based \n",
    "- Undecidble ins't algorithm based \n",
    "- different time of runs times in order for efficency \n",
    "- Linear time isnt the most beneficial\n",
    "- exponential helps it grow past the superpolynomial size "
   ]
  },
  {
   "attachments": {},
   "cell_type": "markdown",
   "metadata": {},
   "source": [
    "# Vocab\n",
    "- undecidable problem\tproblems for which no algorithms can be built that can provide a correct yes or no answer or a solution\n",
    "- Decidable problem\tproblems for which algorthms could be written to solve/produce a correct output for all inputs.\n",
    "- Superpolynomial a specfic run time for an algorithm that help it grow througout time complexity."
   ]
  },
  {
   "attachments": {},
   "cell_type": "markdown",
   "metadata": {},
   "source": [
    "# Hack 1\n",
    "- An undecidable problem is something an Algorithm cant really make this is shown in the questin about god as he has a certain amount of power but can he lift a rock that weighs more than the undefiable. A decidble problem is something that can be created for an algorithm for example how to randomize the role of a dice and compare it with another persons role."
   ]
  },
  {
   "attachments": {},
   "cell_type": "markdown",
   "metadata": {},
   "source": [
    "# Hack 2 \n",
    " C. (3x8)^2 due to the fact it has to multiply the times two and then two more times which makes it three steps "
   ]
  },
  {
   "attachments": {},
   "cell_type": "markdown",
   "metadata": {},
   "source": [
    "# Hack 3"
   ]
  },
  {
   "cell_type": "code",
   "execution_count": null,
   "metadata": {
    "vscode": {
     "languageId": "javascript"
    }
   },
   "outputs": [],
   "source": [
    "function peak_finder2(array){\n",
    "    if (array.length)=== 0{\n",
    "       return  `Array cannot be empty`\n",
    "     }else if (array.length === 1){\n",
    "       return array[0]\n",
    "     }else{\n",
    "       let mid_index = Math.floor(array.length*0.5)\n",
    "      if (array[mid_index +1]>array[mid_index]){\n",
    "         return peak_finding(array.slice(mid_index + 1 ))\n",
    "       }else if (array[mid_index -1]>array[mid_index]){ \n",
    "        new=array.reverse().slice(mid_index+1).reverse()\n",
    "        return peak_finding(new)  \n",
    "        }else{\n",
    "         return array[mid_index]\n",
    "        }\n",
    "      }\n",
    "}\n",
    "// Note I edited my answer based on the key as I was unsure of my previous answer I think I struggled due to my lack of profieceny in javascript, however I was able to make the array more simple and write a conditional"
   ]
  },
  {
   "attachments": {},
   "cell_type": "markdown",
   "metadata": {},
   "source": [
    "# Hack 4"
   ]
  },
  {
   "cell_type": "code",
   "execution_count": 3,
   "metadata": {},
   "outputs": [
    {
     "name": "stdout",
     "output_type": "stream",
     "text": [
      "[0, 1, 2, 3, 4, 5, 6, 7, 8, 9]\n"
     ]
    }
   ],
   "source": [
    " \n",
    "    data = [9, 1, 7, 6, 2, 8, 5, 3, 4, 0]\n",
    "    data.sort()\n",
    "    print(data)"
   ]
  },
  {
   "attachments": {},
   "cell_type": "markdown",
   "metadata": {},
   "source": [
    "###### Explanation\n",
    "I was able to find the function and just use the sort function in order to arive to the answer"
   ]
  },
  {
   "attachments": {},
   "cell_type": "markdown",
   "metadata": {},
   "source": [
    "# Hack 5"
   ]
  },
  {
   "cell_type": "code",
   "execution_count": 5,
   "metadata": {},
   "outputs": [
    {
     "name": "stdout",
     "output_type": "stream",
     "text": [
      "(1, 2, 3)\n",
      "(1, 3, 2)\n",
      "(2, 1, 3)\n",
      "(2, 3, 1)\n",
      "(3, 1, 2)\n",
      "(3, 2, 1)\n"
     ]
    }
   ],
   "source": [
    "\n",
    "  \n",
    "  \n",
    "perm = permutations([1, 2, 3]) \n",
    "\n",
    "for i in list(perm): \n",
    "    print (i)"
   ]
  },
  {
   "attachments": {},
   "cell_type": "markdown",
   "metadata": {},
   "source": [
    "## Explanation \n",
    "- I just coded a new simpler permutation I learned this from the lesson and througout my extra reasearch that I did to arrive to this simple answer"
   ]
  },
  {
   "attachments": {},
   "cell_type": "markdown",
   "metadata": {},
   "source": [
    "# Reflection\n",
    "- I learend a lot in this lesson something I found a bit hard was superpolynomial and the polynomial growth. My favorite part of the lesson was learning about the undecidble and decidble algorithms. Also permutations and step function were fun to learn about "
   ]
  },
  {
   "attachments": {},
   "cell_type": "markdown",
   "metadata": {},
   "source": [
    "# Extra"
   ]
  },
  {
   "cell_type": "code",
   "execution_count": 6,
   "metadata": {},
   "outputs": [
    {
     "name": "stdout",
     "output_type": "stream",
     "text": [
      "['car, watch, toy']\n"
     ]
    }
   ],
   "source": [
    "def heap_permutation(data, n):\n",
    "    if n == 1:\n",
    "        print(data)\n",
    "        return\n",
    "    \n",
    "    for i in range(n):\n",
    "        heap_permutation(data, n - 1)\n",
    "        if n % 2 == 0:\n",
    "            data[i], data[n-1] = data[n-1], data[i]\n",
    "        else:\n",
    "            data[0], data[n-1] = data[n-1], data[0]\n",
    "    \n",
    "if __name__ == '__main__':\n",
    "    data = [\"car, watch, toy\"]\n",
    "    heap_permutation(data, len(data))"
   ]
  },
  {
   "cell_type": "code",
   "execution_count": 5,
   "metadata": {},
   "outputs": [
    {
     "name": "stdout",
     "output_type": "stream",
     "text": [
      "('car', 'watch', 'toy')\n",
      "('car', 'toy', 'watch')\n",
      "('watch', 'car', 'toy')\n",
      "('watch', 'toy', 'car')\n",
      "('toy', 'car', 'watch')\n",
      "('toy', 'watch', 'car')\n"
     ]
    }
   ],
   "source": [
    "from itertools import permutations\n",
    "perm = permutations([\"car\", \"watch\",\"toy\"]) \n",
    "\n",
    "for i in list(perm): \n",
    "    print (i)"
   ]
  }
 ],
 "metadata": {
  "kernelspec": {
   "display_name": "Python 3",
   "language": "python",
   "name": "python3"
  },
  "language_info": {
   "codemirror_mode": {
    "name": "ipython",
    "version": 3
   },
   "file_extension": ".py",
   "mimetype": "text/x-python",
   "name": "python",
   "nbconvert_exporter": "python",
   "pygments_lexer": "ipython3",
   "version": "3.10.9 (main, Dec 15 2022, 18:33:08) [Clang 13.0.0 (clang-1300.0.29.30)]"
  },
  "orig_nbformat": 4,
  "vscode": {
   "interpreter": {
    "hash": "b0fa6594d8f4cbf19f97940f81e996739fb7646882a419484c72d19e05852a7e"
   }
  }
 },
 "nbformat": 4,
 "nbformat_minor": 2
}
