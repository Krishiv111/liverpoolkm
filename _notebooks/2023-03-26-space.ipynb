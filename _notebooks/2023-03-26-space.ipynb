{
 "cells": [
  {
   "attachments": {},
   "cell_type": "markdown",
   "metadata": {},
   "source": [
    "#  Space and Time Hacks\n",
    "- toc: true\n",
    "- categories: []\n",
    "- type: hacks\n",
    "- week: 25"
   ]
  },
  {
   "cell_type": "code",
   "execution_count": null,
   "metadata": {},
   "outputs": [],
   "source": [
    "a = 0\n",
    "b = 0\n",
    "for i in range(N):\n",
    "  a = a + random()\n",
    " \n",
    "for i in range(M):\n",
    "  b= b + random()"
   ]
  },
  {
   "attachments": {},
   "cell_type": "markdown",
   "metadata": {},
   "source": [
    "# Answer and Explanation \n",
    "The answer to this is  O(N + M) time, O(1) space; this is because the times are being added and the value is only to find 1 leaving this as a correct answer declaring the vairable and getting to answer i."
   ]
  },
  {
   "cell_type": "code",
   "execution_count": null,
   "metadata": {},
   "outputs": [],
   "source": [
    "a = 0;\n",
    "for i in range(N):\n",
    "  for j in reversed(range(i,N)):\n",
    "    a = a + i + j;"
   ]
  },
  {
   "attachments": {},
   "cell_type": "markdown",
   "metadata": {},
   "source": [
    "# Answer/ Explanation \n",
    "The answer for this is  O(N*N) this is beu case since n is i and n,i is the range it makes 0+ n +N-1 giving a root leading to this answer "
   ]
  },
  {
   "cell_type": "code",
   "execution_count": null,
   "metadata": {},
   "outputs": [],
   "source": [
    "k = 0;\n",
    "for i in range(n//2,n):\n",
    "  for j in range(2,n,pow(2,j)):\n",
    "        k = k + n / 2;"
   ]
  },
  {
   "cell_type": "markdown",
   "metadata": {},
   "source": [
    "# Answer/ Explanation \n",
    " The answer is  O(nLogn) this is buecase it refers to the breaking down the code and somethign to the power of something = log meaning this would be the most logical answer itterated through the loop."
   ]
  },
  {
   "attachments": {},
   "cell_type": "markdown",
   "metadata": {},
   "source": [
    " What does it mean when we say that an algorithm X is asymptotically more efficient than Y? "
   ]
  },
  {
   "attachments": {},
   "cell_type": "markdown",
   "metadata": {},
   "source": [
    "# Answer/ Explanation \n",
    "X will always be a better choice for large inputs This is the answer becuase asymptomatically means when apporcahing a large or small function wihtin math leaving it to work"
   ]
  },
  {
   "cell_type": "code",
   "execution_count": null,
   "metadata": {},
   "outputs": [],
   "source": [
    "a = 0\n",
    "i = N\n",
    "while (i > 0):\n",
    "a += i\n",
    "i //= 2\n"
   ]
  },
  {
   "attachments": {},
   "cell_type": "markdown",
   "metadata": {},
   "source": [
    "# Explanation \n",
    " The answer is O(log N) beucaese you get a log value thorught this fucntion as its something to the power of something = something "
   ]
  },
  {
   "attachments": {},
   "cell_type": "markdown",
   "metadata": {},
   "source": [
    " Which of the following best describes the useful criterion for comparing the efficiency of algorithms?"
   ]
  },
  {
   "attachments": {},
   "cell_type": "markdown",
   "metadata": {},
   "source": [
    "# Explanation \n",
    "- Both time and memory are needed as that is what gets you to a good algorithm meaning its is the basis of time/space"
   ]
  },
  {
   "attachments": {},
   "cell_type": "markdown",
   "metadata": {},
   "source": [
    "How is time complexity measured?"
   ]
  },
  {
   "attachments": {},
   "cell_type": "markdown",
   "metadata": {},
   "source": [
    "# Explanation \n",
    "By counting the number of primitive operations performed by the algorithm on a given input size. This complexity has to do with algorithms and meaning within an input the algorithm is measured and so are operations within in"
   ]
  },
  {
   "cell_type": "code",
   "execution_count": null,
   "metadata": {},
   "outputs": [],
   "source": [
    "# code\n",
    "for i in range(n):\n",
    "i=i*k\n"
   ]
  },
  {
   "attachments": {},
   "cell_type": "markdown",
   "metadata": {},
   "source": [
    "# Explanation \n",
    "- xO(logkn) this is beucase of the loop of i and n giving the out put this "
   ]
  },
  {
   "cell_type": "code",
   "execution_count": null,
   "metadata": {},
   "outputs": [],
   "source": [
    "value = 0;\n",
    "for i in range(n):\n",
    "for j in range(i):\n",
    "\tvalue=value+1\n"
   ]
  },
  {
   "attachments": {},
   "cell_type": "markdown",
   "metadata": {},
   "source": [
    "# Explanation \n",
    "- The answer is n(n-1), meaning that n is n-1 however I am not sure as the loop is a bit confusing and adds so I dont understand the subtraction"
   ]
  },
  {
   "attachments": {},
   "cell_type": "markdown",
   "metadata": {},
   "source": [
    "The Big-O notation provides an asymptotic comparison in the running time of algorithms. For n < n0​​, algorithm A might run faster than algorithm B, for instance."
   ]
  },
  {
   "attachments": {},
   "cell_type": "markdown",
   "metadata": {},
   "source": [
    "# Explanation \n",
    "False;The Big-O notation provides an asymptotic comparison in the running time of algorithms. For n < n0​​, algorithm A might run faster than algorithm B, for instance."
   ]
  }
 ],
 "metadata": {
  "kernelspec": {
   "display_name": "base",
   "language": "python",
   "name": "python3"
  },
  "language_info": {
   "codemirror_mode": {
    "name": "ipython",
    "version": 3
   },
   "file_extension": ".py",
   "mimetype": "text/x-python",
   "name": "python",
   "nbconvert_exporter": "python",
   "pygments_lexer": "ipython3",
   "version": "3.9.12"
  },
  "orig_nbformat": 4
 },
 "nbformat": 4,
 "nbformat_minor": 2
}
