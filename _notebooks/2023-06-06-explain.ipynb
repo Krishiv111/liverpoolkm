{
 "cells": [
  {
   "attachments": {},
   "cell_type": "markdown",
   "metadata": {},
   "source": [
    "# Game Code!"
   ]
  },
  {
   "cell_type": "code",
   "execution_count": null,
   "metadata": {
    "vscode": {
     "languageId": "javascript"
    }
   },
   "outputs": [],
   "source": [
    "let clickedCard = null;\n",
    "let preventClick = false;\n",
    "let combosFound = 0;\n",
    "let score = 0;\n",
    "// A set of the colors in order to go through and randomize the colors.\n",
    "const colors= [\n",
    "    'pink',\n",
    "    'yellow',\n",
    "    'cyan',\n",
    "    'blue',\n",
    "    'green',\n",
    "    'teal',\n",
    "    'red',\n",
    "    'orange',\n",
    "];\n",
    "// THis is a way to randomize the code, firstly the cards is set within a loop to go through the above code, then each card is set into a number through pardse int for the cards array \n",
    "const cards = [...document.querySelectorAll('.card')];\n",
    "for (let color of colors) {\n",
    "  const cardAIndex = parseInt(Math.random() * cards.length);\n",
    "  const cardA = cards[cardAIndex];\n",
    "  cards.splice(cardAIndex, 1); // Add within the \n",
    "  cardA.className += ` ${color}`; // Puts the cards within an array. \n",
    "  cardA.setAttribute('data-color', color);// Sets the card color to the card works like an assignee\n",
    "\n",
    "  const cardBIndex = parseInt(Math.random() * cards.length); //provides teh same input for the other part of the other sets of carsd\n",
    "  const cardB = cards[cardBIndex];\n",
    "  cards.splice(cardBIndex, 1);\n",
    "  cardB.className += ` ${color}`;\n",
    "  cardB.setAttribute('data-color', color);\n",
    "}"
   ]
  },
  {
   "attachments": {},
   "cell_type": "markdown",
   "metadata": {},
   "source": [
    "This code is a way to set up the random cards by  setting the card into colors in order to make sure that stuff works from the colors to the stengths."
   ]
  },
  {
   "cell_type": "code",
   "execution_count": null,
   "metadata": {
    "vscode": {
     "languageId": "javascript"
    }
   },
   "outputs": [],
   "source": [
    "function onCardClicked(e) {\n",
    "    const target = e.currentTarget;\n",
    "    \n",
    "    if (\n",
    "        preventClick ||\n",
    "        target === clickedCard ||  \n",
    "        target.className.includes('done')){\n",
    "        return;\n",
    "    }\n",
    "    target.className = target.className.\n",
    "        replace('color-hidden', '')\n",
    "        .trim();\n",
    "    \n",
    "\n",
    "    console.log(target.getAttribute('data-color'));\n",
    "    \n",
    "    if (!clickedCard) {\n",
    "      clickedCard = target; \n",
    "    } else if (clickedCard) {\n",
    "        \n",
    "\n",
    "    if(\n",
    "        clickedCard.getAttribute('data-color') ===\n",
    "        target.getAttribute('data-color')\n",
    "    ) {\n",
    "            console.log('cards ARE equal');\n",
    "            combosFound++;\n",
    "            score++; \n",
    "            updateScore();\n",
    "            clickedCard = null;\n",
    "            if(combosFound === 8) {\n",
    "                alert('NICE YOU WIN!');\n",
    "            }\n",
    "            \n",
    "            \n",
    "\n",
    "            \n",
    "        } else {\n",
    "        console.log('cards.not equal');\n",
    "        preventClick = true;\n",
    "        setTimeout(() => {\n",
    "            clickedCard.className =\n",
    "            clickedCard.className.replace('done','').trim() + \n",
    "            'color-hidden';\n",
    "            target.className = \n",
    "            target.className.replace('done','').trim() + 'color-hidden';\n",
    "            clickedCard = null;\n",
    "            preventClick = false;\n",
    "            \n",
    "            },500);\n",
    "        }\n",
    "     }\n",
    "}"
   ]
  },
  {
   "attachments": {},
   "cell_type": "markdown",
   "metadata": {},
   "source": [
    "This is to make sure that cars are equal and all the code works correctly "
   ]
  }
 ],
 "metadata": {
  "language_info": {
   "name": "python"
  },
  "orig_nbformat": 4
 },
 "nbformat": 4,
 "nbformat_minor": 2
}
