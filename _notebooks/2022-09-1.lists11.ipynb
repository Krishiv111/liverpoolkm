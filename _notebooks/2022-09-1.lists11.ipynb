{
 "cells": [
  {
   "cell_type": "markdown",
   "metadata": {},
   "source": [
    "# My Lists"
   ]
  },
  {
   "cell_type": "code",
   "execution_count": 1,
   "metadata": {},
   "outputs": [
    {
     "name": "stdout",
     "output_type": "stream",
     "text": [
      "name Krishiv <class 'str'>\n",
      "age 15 <class 'int'>\n",
      "\n",
      "sports ['soccer', 'basketball', 'football'] <class 'list'>\n",
      "- sports[1] basketball <class 'str'>\n",
      "\n",
      "person {'name': 'Krishiv', 'age': 15} <class 'dict'>\n",
      "- person[\"name\"] Krishiv <class 'str'>\n"
     ]
    }
   ],
   "source": [
    "\n",
    "name = \"Krishiv\"\n",
    "print (\"name\", name, type (name))\n",
    "\n",
    "age = 15\n",
    "print (\"age\", age, type (age))\n",
    "\n",
    "print()\n",
    "\n",
    "sports =[\"soccer\", \"basketball\", \"football\"]\n",
    "print(\"sports\", sports, type(sports))\n",
    "print(\"- sports[1]\", sports[1], type(sports[1]))\n",
    "\n",
    "print()\n",
    "\n",
    "person = {\n",
    "    \"name\": name,\n",
    "    \"age\": age\n",
    "    \n",
    "    \n",
    "}\n",
    "print(\"person\", person, type(person))\n",
    "print('- person[\"name\"]', person[\"name\"], type(person[\"name\"]))"
   ]
  },
  {
   "cell_type": "code",
   "execution_count": 2,
   "metadata": {},
   "outputs": [
    {
     "name": "stdout",
     "output_type": "stream",
     "text": [
      "[{'FirstName': 'Krishiv', 'LastName': 'Mahendru', 'DOB': 'april 22', 'Residence': 'San Diego', 'favorites subject': 'Comp Sci', 'Favorite_Desserts': ['Brownies', 'cookies']}]\n"
     ]
    }
   ],
   "source": [
    "InfoDB = []\n",
    "\n",
    "InfoDB.append({\n",
    "    \"FirstName\": \"Krishiv\",\n",
    "    \"LastName\": \"Mahendru\",\n",
    "    \"DOB\": \"april 22\",\n",
    "    \"Residence\": \"San Diego\",\n",
    "    \"favorites subject\" : \"Comp Sci\",\n",
    "   \"Favorite_Desserts\" :  [\"Brownies\", \"cookies\"]\n",
    "})\n",
    "\n",
    "print(InfoDB)"
   ]
  },
  {
   "cell_type": "code",
   "execution_count": null,
   "metadata": {},
   "outputs": [],
   "source": []
  }
 ],
 "metadata": {
  "kernelspec": {
   "display_name": "Python 3.10.6 64-bit",
   "language": "python",
   "name": "python3"
  },
  "language_info": {
   "codemirror_mode": {
    "name": "ipython",
    "version": 3
   },
   "file_extension": ".py",
   "mimetype": "text/x-python",
   "name": "python",
   "nbconvert_exporter": "python",
   "pygments_lexer": "ipython3",
   "version": "3.10.6"
  },
  "orig_nbformat": 4,
  "vscode": {
   "interpreter": {
    "hash": "b0fa6594d8f4cbf19f97940f81e996739fb7646882a419484c72d19e05852a7e"
   }
  }
 },
 "nbformat": 4,
 "nbformat_minor": 2
}
