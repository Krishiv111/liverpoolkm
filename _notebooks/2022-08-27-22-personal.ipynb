{
 "cells": [
  {
   "cell_type": "code",
   "execution_count": null,
   "metadata": {},
   "outputs": [],
   "source": [
    "# My personal notebook\n",
    "\n",
    "\n",
    "- toc: true\n",
    "- comments: true\n",
    "- permalink: /jupyter/\n",
    "- categories: [jupyter]\n"
    title: My APCSP Journey
  
    
   ]
  },
  {
   "cell_type": "code",
   "execution_count": null,
   "metadata": {},
   "outputs": [],
   "source": [
    "## Purpose\n",
    " The purpose of my notebook is to show my what I have learned in APCSP over the weeks"
   ]
  },
  {
   "cell_type": "code",
   "execution_count": null,
   "metadata": {},
   "outputs": [],
   "source": [
    "### Week 1\n",
    "\n",
    " This week I have learned how to make by blog better through fastpages\n",
    " I also learned about print statements and if and else statements\n",
    " My biggest takeway from this week is that to code you need patience and perseverance"
   ]
  }
 ],
 "metadata": {
  "kernelspec": {
   "display_name": "Python 3.10.6 64-bit",
   "language": "python",
   "name": "python3"
  },
  "language_info": {
   "name": "python",
   "version": "3.10.6"
  },
  "orig_nbformat": 4,
  "vscode": {
   "interpreter": {
    "hash": "b0fa6594d8f4cbf19f97940f81e996739fb7646882a419484c72d19e05852a7e"
   }
  }
 },
 "nbformat": 4,
 "nbformat_minor": 2
}
