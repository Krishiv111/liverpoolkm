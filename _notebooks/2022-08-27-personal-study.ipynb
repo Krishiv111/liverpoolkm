#"My Personal Study Space"

- toc: true
- branch: master
- badges: true
- comments: true
- author: Krishiv Mahendru
- categories: [ jupyter]

# Purpose
- The purpose is to  be able to use this page as a way to reflect on my learning for APCSP over the weeks

# Week 1 What Have I  Learned
- I have learned how to setup fastpages and my blog 
- I have learned how to use the print function
- I have learn if and else statements through the development of my quiz
- I have setup my bash notebook
