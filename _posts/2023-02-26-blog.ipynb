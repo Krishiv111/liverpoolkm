{
 "cells": [
  {
   "attachments": {},
   "cell_type": "markdown",
   "metadata": {},
   "source": [
    "# Written Response!"
   ]
  },
  {
   "attachments": {},
   "cell_type": "markdown",
   "metadata": {},
   "source": [
    "# Purpose and Function \n",
    "- The purpose and function of my feature is able to book a house and rent other things which allows people to get more people to rent with ease. It includes an input/output as it takes the users data and outputs it in the response because it goes back into the server."
   ]
  },
  {
   "attachments": {},
   "cell_type": "markdown",
   "metadata": {},
   "source": [
    "# Data abstraction\n",
    "- Data was stored throughout a database within a CRUD feature, within a database"
   ]
  }
 ],
 "metadata": {
  "language_info": {
   "name": "python"
  },
  "orig_nbformat": 4
 },
 "nbformat": 4,
 "nbformat_minor": 2
}
